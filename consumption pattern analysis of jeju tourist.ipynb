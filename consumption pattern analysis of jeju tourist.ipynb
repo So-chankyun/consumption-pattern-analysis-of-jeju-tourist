{
 "cells": [
  {
   "cell_type": "markdown",
   "id": "minimal-hanging",
   "metadata": {},
   "source": [
    "# 제주 관광객 소비패턴 변화 분석(BC카드)\n",
    "## 1. Definition\n",
    "### Overview\n",
    "2014년~2016년 제주도 내 내국인 관광객의 카드 소비 패턴 분석을 통해서 어떠한 상권에서 어떠한 소비를 많이 하는지에 대해 분석하고, 이를 통해 데이터가 주어지면 어떠한 상권에서 어떠한 업종이 유망할 지에 대한 모델을 만들고자 한다.\n",
    "### Metric\n",
    "## 2. Data Exploration\n",
    "### import library"
   ]
  },
  {
   "cell_type": "code",
   "execution_count": 12,
   "id": "strategic-weapon",
   "metadata": {},
   "outputs": [],
   "source": [
    "import pandas as pd\n",
    "import numpy as np\n",
    "\n",
    "import matplotlib.pyplot as plt\n",
    "import seaborn as sns\n",
    "\n",
    "from glob import glob\n",
    "import os, random, time, gc, warnings\n",
    "\n",
    "from tqdm import tqdm_notebook\n",
    "\n",
    "import lightgbm as lgbm\n",
    "from sklearn.linear_model import Ridge, Lasso\n",
    "from sklearn.ensemble import RandomForestRegressor\n",
    "from sklearn.tree import DecisionTreeRegressor\n",
    "\n",
    "from sklearn.preprocessing import LabelEncoder\n",
    "from sklearn.model_selection import KFold, StratifiedKFold\n",
    "from sklearn.metrics import mean_squared_error\n",
    "\n",
    "# from catboost import CatBoostRegressor\n",
    "from sklearn.feature_selection import RFECV\n",
    "\n",
    "\n",
    "from sklearn.cluster import KMeans\n",
    "\n",
    "from datetime import datetime\n",
    "\n",
    "from math import sqrt\n",
    "\n",
    "import folium\n",
    "from folium import Marker, Icon, CircleMarker\n",
    "from folium.plugins import MarkerCluster\n",
    "\n",
    "from pdpbox import pdp, info_plots\n",
    "\n",
    "warnings.filterwarnings('ignore')\n",
    "\n",
    "pd.set_option('max_columns', 500)\n",
    "pd.set_option('max_rows', 500)\n",
    "\n",
    "%matplotlib inline"
   ]
  },
  {
   "cell_type": "code",
   "execution_count": 13,
   "id": "sunset-techno",
   "metadata": {},
   "outputs": [
    {
     "data": {
      "text/plain": [
       "['domestic_consumption_data.csv',\n",
       " 'market_consumption_data.csv',\n",
       " 'reference_data',\n",
       " 'supplementary_data']"
      ]
     },
     "execution_count": 13,
     "metadata": {},
     "output_type": "execute_result"
    }
   ],
   "source": [
    "os.listdir('./input/')"
   ]
  },
  {
   "cell_type": "markdown",
   "id": "viral-roulette",
   "metadata": {},
   "source": [
    "### Load Dataset"
   ]
  },
  {
   "cell_type": "code",
   "execution_count": 87,
   "id": "functioning-profit",
   "metadata": {},
   "outputs": [
    {
     "data": {
      "text/html": [
       "<div>\n",
       "<style scoped>\n",
       "    .dataframe tbody tr th:only-of-type {\n",
       "        vertical-align: middle;\n",
       "    }\n",
       "\n",
       "    .dataframe tbody tr th {\n",
       "        vertical-align: top;\n",
       "    }\n",
       "\n",
       "    .dataframe thead th {\n",
       "        text-align: right;\n",
       "    }\n",
       "</style>\n",
       "<table border=\"1\" class=\"dataframe\">\n",
       "  <thead>\n",
       "    <tr style=\"text-align: right;\">\n",
       "      <th></th>\n",
       "      <th>기준년월</th>\n",
       "      <th>관광객 유형</th>\n",
       "      <th>제주 대분류</th>\n",
       "      <th>제주 중분류</th>\n",
       "      <th>업종명</th>\n",
       "      <th>성별</th>\n",
       "      <th>연령대별</th>\n",
       "      <th>카드이용금액</th>\n",
       "      <th>카드이용건수</th>\n",
       "      <th>건당이용금액</th>\n",
       "      <th>데이터기준일자</th>\n",
       "    </tr>\n",
       "  </thead>\n",
       "  <tbody>\n",
       "    <tr>\n",
       "      <th>0</th>\n",
       "      <td>2014-09-01</td>\n",
       "      <td>내국인 관광객</td>\n",
       "      <td>서귀포시</td>\n",
       "      <td>대륜동</td>\n",
       "      <td>농축수산품</td>\n",
       "      <td>여</td>\n",
       "      <td>50대</td>\n",
       "      <td>14434000</td>\n",
       "      <td>67</td>\n",
       "      <td>215433</td>\n",
       "      <td>2017-02-16</td>\n",
       "    </tr>\n",
       "    <tr>\n",
       "      <th>1</th>\n",
       "      <td>2014-09-01</td>\n",
       "      <td>내국인 관광객</td>\n",
       "      <td>서귀포시</td>\n",
       "      <td>대륜동</td>\n",
       "      <td>농축수산품</td>\n",
       "      <td>남</td>\n",
       "      <td>50대</td>\n",
       "      <td>15119000</td>\n",
       "      <td>72</td>\n",
       "      <td>209986</td>\n",
       "      <td>2017-02-16</td>\n",
       "    </tr>\n",
       "    <tr>\n",
       "      <th>2</th>\n",
       "      <td>2014-09-01</td>\n",
       "      <td>내국인 관광객</td>\n",
       "      <td>서귀포시</td>\n",
       "      <td>대륜동</td>\n",
       "      <td>농축수산품</td>\n",
       "      <td>여</td>\n",
       "      <td>40대</td>\n",
       "      <td>7609500</td>\n",
       "      <td>41</td>\n",
       "      <td>185598</td>\n",
       "      <td>2017-02-16</td>\n",
       "    </tr>\n",
       "    <tr>\n",
       "      <th>3</th>\n",
       "      <td>2014-09-01</td>\n",
       "      <td>내국인 관광객</td>\n",
       "      <td>서귀포시</td>\n",
       "      <td>남원읍</td>\n",
       "      <td>농축수산품</td>\n",
       "      <td>남</td>\n",
       "      <td>50대</td>\n",
       "      <td>7092500</td>\n",
       "      <td>40</td>\n",
       "      <td>177313</td>\n",
       "      <td>2017-02-16</td>\n",
       "    </tr>\n",
       "    <tr>\n",
       "      <th>4</th>\n",
       "      <td>2014-09-01</td>\n",
       "      <td>내국인 관광객</td>\n",
       "      <td>서귀포시</td>\n",
       "      <td>대륜동</td>\n",
       "      <td>농축수산품</td>\n",
       "      <td>남</td>\n",
       "      <td>40대</td>\n",
       "      <td>9098500</td>\n",
       "      <td>59</td>\n",
       "      <td>154212</td>\n",
       "      <td>2017-02-16</td>\n",
       "    </tr>\n",
       "  </tbody>\n",
       "</table>\n",
       "</div>"
      ],
      "text/plain": [
       "        기준년월   관광객 유형 제주 대분류 제주 중분류    업종명 성별 연령대별   카드이용금액    카드이용건수   \\\n",
       "0 2014-09-01  내국인 관광객   서귀포시    대륜동  농축수산품  여  50대  14434000        67   \n",
       "1 2014-09-01  내국인 관광객   서귀포시    대륜동  농축수산품  남  50대  15119000        72   \n",
       "2 2014-09-01  내국인 관광객   서귀포시    대륜동  농축수산품  여  40대   7609500        41   \n",
       "3 2014-09-01  내국인 관광객   서귀포시    남원읍  농축수산품  남  50대   7092500        40   \n",
       "4 2014-09-01  내국인 관광객   서귀포시    대륜동  농축수산품  남  40대   9098500        59   \n",
       "\n",
       "   건당이용금액    데이터기준일자  \n",
       "0  215433 2017-02-16  \n",
       "1  209986 2017-02-16  \n",
       "2  185598 2017-02-16  \n",
       "3  177313 2017-02-16  \n",
       "4  154212 2017-02-16  "
      ]
     },
     "execution_count": 87,
     "metadata": {},
     "output_type": "execute_result"
    }
   ],
   "source": [
    "data = pd.read_csv('./input/domestic_consumption_data.csv',parse_dates=['기준년월','데이터기준일자'],encoding='ANSI')\n",
    "data.head()"
   ]
  },
  {
   "cell_type": "code",
   "execution_count": 15,
   "id": "consolidated-ideal",
   "metadata": {},
   "outputs": [
    {
     "data": {
      "text/plain": [
       "Index(['기준년월', '관광객 유형', '제주 대분류', '제주 중분류', '업종명', '성별', '연령대별', ' 카드이용금액 ',\n",
       "       ' 카드이용건수 ', '건당이용금액', '데이터기준일자'],\n",
       "      dtype='object')"
      ]
     },
     "execution_count": 15,
     "metadata": {},
     "output_type": "execute_result"
    }
   ],
   "source": [
    "data.columns"
   ]
  },
  {
   "cell_type": "markdown",
   "id": "headed-emphasis",
   "metadata": {},
   "source": [
    "### Columns\n",
    "- 기준년월 : 해당 데이터가 발생한 날짜\n",
    "- 관광객 유형 : 모두 내국인 관광객으로 동일\n",
    "- 제주 대분류 : 제주시, 서귀포시\n",
    "- 제주 중분류 : 읍면동\n",
    "- 업종명 : 업종의 종류를 나타낸다.\n",
    "- 성별 : 남/여\n",
    "- 연령대별 : 연령대\n",
    "- 카드이용금액\n",
    "- 카드이용건수\n",
    "- 건당이용금액 : 카드이용금액 / 카드이용건수\n",
    "- 데이터기준일자 : database가 만들어진 날짜\n",
    "\n",
    "'데이터 기준일자'은 2017-02-16으로 모두 동일하고,  '관광객 유형'은 모두 내국인 관광객으로 동일하므로 삭제한다."
   ]
  },
  {
   "cell_type": "code",
   "execution_count": 89,
   "id": "institutional-forward",
   "metadata": {},
   "outputs": [
    {
     "data": {
      "text/plain": [
       "Index(['기준년월', '제주 대분류', '제주 중분류', '업종명', '성별', '연령대별', ' 카드이용금액 ', ' 카드이용건수 ',\n",
       "       '건당이용금액'],\n",
       "      dtype='object')"
      ]
     },
     "execution_count": 89,
     "metadata": {},
     "output_type": "execute_result"
    }
   ],
   "source": [
    "data.drop(['관광객 유형','데이터기준일자'],axis=1,inplace=True)\n",
    "data.columns"
   ]
  },
  {
   "cell_type": "markdown",
   "id": "south-disney",
   "metadata": {},
   "source": [
    "중복되는 데이터는 없다."
   ]
  },
  {
   "cell_type": "code",
   "execution_count": 91,
   "id": "consecutive-stretch",
   "metadata": {},
   "outputs": [
    {
     "data": {
      "text/plain": [
       "(13146, 9)"
      ]
     },
     "metadata": {},
     "output_type": "display_data"
    },
    {
     "data": {
      "text/plain": [
       "0"
      ]
     },
     "metadata": {},
     "output_type": "display_data"
    }
   ],
   "source": [
    "display(data.shape)\n",
    "display(data.duplicated().sum())"
   ]
  },
  {
   "cell_type": "markdown",
   "id": "isolated-extra",
   "metadata": {},
   "source": [
    "### Missing Value\n",
    "결측치는 없다."
   ]
  },
  {
   "cell_type": "code",
   "execution_count": 33,
   "id": "chronic-machinery",
   "metadata": {},
   "outputs": [],
   "source": [
    "# 한글 글꼴 설정\n",
    "import matplotlib.font_manager as fm\n",
    "\n",
    "font_path = r'./NanumFontSetup_TTF_BARUNGOTHIC/NanumBarunGothic.ttf'\n",
    "fontprop = fm.FontProperties(fname=font_path, size=18)"
   ]
  },
  {
   "cell_type": "code",
   "execution_count": 92,
   "id": "pressed-efficiency",
   "metadata": {},
   "outputs": [
    {
     "name": "stdout",
     "output_type": "stream",
     "text": [
      "<class 'pandas.core.frame.DataFrame'>\n",
      "RangeIndex: 13146 entries, 0 to 13145\n",
      "Data columns (total 9 columns):\n",
      " #   Column    Non-Null Count  Dtype         \n",
      "---  ------    --------------  -----         \n",
      " 0   기준년월      13146 non-null  datetime64[ns]\n",
      " 1   제주 대분류    13146 non-null  object        \n",
      " 2   제주 중분류    13146 non-null  object        \n",
      " 3   업종명       13146 non-null  object        \n",
      " 4   성별        13146 non-null  object        \n",
      " 5   연령대별      13146 non-null  object        \n",
      " 6    카드이용금액   13146 non-null  int64         \n",
      " 7    카드이용건수   13146 non-null  int64         \n",
      " 8   건당이용금액    13146 non-null  int64         \n",
      "dtypes: datetime64[ns](1), int64(3), object(5)\n",
      "memory usage: 924.5+ KB\n"
     ]
    }
   ],
   "source": [
    "data.info()"
   ]
  },
  {
   "cell_type": "markdown",
   "id": "medieval-neighbor",
   "metadata": {},
   "source": [
    "#### 제주 대분류, 제주 중분류"
   ]
  },
  {
   "cell_type": "code",
   "execution_count": 93,
   "id": "inappropriate-belgium",
   "metadata": {},
   "outputs": [
    {
     "data": {
      "text/plain": [
       "Index(['기준년월', '제주 대분류', '제주 중분류', '업종명', '성별', '연령대별', ' 카드이용금액 ', ' 카드이용건수 ',\n",
       "       '건당이용금액'],\n",
       "      dtype='object')"
      ]
     },
     "execution_count": 93,
     "metadata": {},
     "output_type": "execute_result"
    }
   ],
   "source": [
    "data.columns"
   ]
  },
  {
   "cell_type": "code",
   "execution_count": 94,
   "id": "quarterly-intervention",
   "metadata": {},
   "outputs": [
    {
     "name": "stdout",
     "output_type": "stream",
     "text": [
      "도시의 갯수 : 2\n"
     ]
    },
    {
     "data": {
      "text/plain": [
       "None"
      ]
     },
     "metadata": {},
     "output_type": "display_data"
    },
    {
     "name": "stdout",
     "output_type": "stream",
     "text": [
      "['서귀포시' '제주시']\n"
     ]
    },
    {
     "data": {
      "text/plain": [
       "None"
      ]
     },
     "metadata": {},
     "output_type": "display_data"
    },
    {
     "name": "stdout",
     "output_type": "stream",
     "text": [
      "동네의 갯수 : 10\n"
     ]
    },
    {
     "data": {
      "text/plain": [
       "None"
      ]
     },
     "metadata": {},
     "output_type": "display_data"
    },
    {
     "name": "stdout",
     "output_type": "stream",
     "text": [
      "['대륜동' '남원읍' '연동' '예래동' '이도2동' '삼도2동' '용담2동' '노형동' '애월읍' '성산읍']\n"
     ]
    },
    {
     "data": {
      "text/plain": [
       "None"
      ]
     },
     "metadata": {},
     "output_type": "display_data"
    }
   ],
   "source": [
    "city_in_jejudo = data['제주 대분류'].unique()\n",
    "town_in_jejudo = data['제주 중분류'].unique()\n",
    "display(print('도시의 갯수 : {}'.format(len(city_in_jejudo))))\n",
    "display(print(city_in_jejudo))\n",
    "display(print('동네의 갯수 : {}'.format(len(town_in_jejudo))))\n",
    "display(print(town_in_jejudo))"
   ]
  },
  {
   "cell_type": "markdown",
   "id": "linear-canberra",
   "metadata": {},
   "source": [
    "#### 업종명\n",
    "중간에 불필요한 공백이 있는 data는 공백을 없애주도록 한다."
   ]
  },
  {
   "cell_type": "code",
   "execution_count": 95,
   "id": "lovely-injection",
   "metadata": {},
   "outputs": [
    {
     "name": "stdout",
     "output_type": "stream",
     "text": [
      "업종의 갯수 : 14\n",
      " ['농축수산품' '스포츠레져용품' '골프 용품' '악세 사리' '의원' '안경' '정장(여성)' '기념품 점' '기타음료식품'\n",
      " '슈퍼 마켓' '신   발' '약국' '스넥' '귀 금 속']\n"
     ]
    }
   ],
   "source": [
    "upjong = data['업종명'].unique()\n",
    "print(f'업종의 갯수 : {len(upjong)}\\n',upjong)"
   ]
  },
  {
   "cell_type": "code",
   "execution_count": 96,
   "id": "broad-referral",
   "metadata": {},
   "outputs": [
    {
     "data": {
      "text/plain": [
       "array(['농축수산품', '스포츠레져용품', '골프용품', '악세사리', '의원', '안경', '정장(여성)', '기념품점',\n",
       "       '기타음료식품', '슈퍼마켓', '신발', '약국', '스넥', '귀금속'], dtype=object)"
      ]
     },
     "execution_count": 96,
     "metadata": {},
     "output_type": "execute_result"
    }
   ],
   "source": [
    "# 불필요한 공백 제거\n",
    "data['업종명'] = [uj.replace(\" \",\"\") for uj in data['업종명']]\n",
    "data['업종명'].unique()"
   ]
  },
  {
   "cell_type": "markdown",
   "id": "accessible-collapse",
   "metadata": {},
   "source": [
    "#### 성별"
   ]
  },
  {
   "cell_type": "code",
   "execution_count": 97,
   "id": "intermediate-basis",
   "metadata": {},
   "outputs": [
    {
     "name": "stdout",
     "output_type": "stream",
     "text": [
      "['여' '남']\n"
     ]
    }
   ],
   "source": [
    "sex = data['성별'].unique()\n",
    "print(sex)"
   ]
  },
  {
   "cell_type": "markdown",
   "id": "negative-fleece",
   "metadata": {},
   "source": [
    "#### 연령대별"
   ]
  },
  {
   "cell_type": "code",
   "execution_count": 98,
   "id": "unlike-growing",
   "metadata": {},
   "outputs": [
    {
     "name": "stdout",
     "output_type": "stream",
     "text": [
      "['50대' '40대' '30대' '20대']\n"
     ]
    }
   ],
   "source": [
    "age_grp = data['연령대별'].unique()\n",
    "print(age_grp)"
   ]
  },
  {
   "cell_type": "markdown",
   "id": "agreed-november",
   "metadata": {},
   "source": [
    "#### 카드이용금액"
   ]
  },
  {
   "cell_type": "code",
   "execution_count": 99,
   "id": "collective-standing",
   "metadata": {},
   "outputs": [
    {
     "data": {
      "text/plain": [
       "Index(['기준년월', '제주 대분류', '제주 중분류', '업종명', '성별', '연령대별', ' 카드이용금액 ', ' 카드이용건수 ',\n",
       "       '건당이용금액'],\n",
       "      dtype='object')"
      ]
     },
     "execution_count": 99,
     "metadata": {},
     "output_type": "execute_result"
    }
   ],
   "source": [
    "data.columns"
   ]
  }
 ],
 "metadata": {
  "kernelspec": {
   "display_name": "Python 3",
   "language": "python",
   "name": "python3"
  },
  "language_info": {
   "codemirror_mode": {
    "name": "ipython",
    "version": 3
   },
   "file_extension": ".py",
   "mimetype": "text/x-python",
   "name": "python",
   "nbconvert_exporter": "python",
   "pygments_lexer": "ipython3",
   "version": "3.9.2"
  }
 },
 "nbformat": 4,
 "nbformat_minor": 5
}
