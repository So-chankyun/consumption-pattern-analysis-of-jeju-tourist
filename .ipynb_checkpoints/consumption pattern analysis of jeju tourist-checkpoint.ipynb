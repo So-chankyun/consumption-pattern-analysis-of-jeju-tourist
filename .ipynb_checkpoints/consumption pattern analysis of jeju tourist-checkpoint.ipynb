{
 "cells": [
  {
   "cell_type": "markdown",
   "id": "acquired-beaver",
   "metadata": {},
   "source": [
    "# 제주 관광객 소비패턴 변화 분석(BC카드)\n",
    "## 1. Definition\n",
    "### Overview\n",
    "2014년~2016년 제주도 내 내국인 관광객의 카드 소비 패턴 분석을 통해서 어떠한 상권에서 어떠한 소비를 많이 하는지에 대해 분석하고, 이를 통해 데이터가 주어지면 어떠한 상권에서 어떠한 업종이 유망할 지에 대한 모델을 만들고자 한다.\n",
    "### Metric\n",
    "## 2. Data Exploration\n",
    "### import library"
   ]
  },
  {
   "cell_type": "code",
   "execution_count": 1,
   "id": "young-range",
   "metadata": {},
   "outputs": [],
   "source": [
    "import pandas as pd\n",
    "import numpy as np\n",
    "\n",
    "import matplotlib.pyplot as plt\n",
    "import seaborn as sns\n",
    "\n",
    "from glob import glob\n",
    "import os, random, time, gc, warnings\n",
    "\n",
    "from tqdm import tqdm_notebook\n",
    "\n",
    "import lightgbm as lgbm\n",
    "from sklearn.linear_model import Ridge, Lasso\n",
    "from sklearn.ensemble import RandomForestRegressor\n",
    "from sklearn.tree import DecisionTreeRegressor\n",
    "\n",
    "from sklearn.preprocessing import LabelEncoder\n",
    "from sklearn.model_selection import KFold, StratifiedKFold\n",
    "from sklearn.metrics import mean_squared_error\n",
    "\n",
    "# from catboost import CatBoostRegressor\n",
    "from sklearn.feature_selection import RFECV\n",
    "\n",
    "\n",
    "from sklearn.cluster import KMeans\n",
    "\n",
    "from datetime import datetime\n",
    "\n",
    "from math import sqrt\n",
    "\n",
    "import folium\n",
    "from folium import Marker, Icon, CircleMarker\n",
    "from folium.plugins import MarkerCluster\n",
    "\n",
    "from pdpbox import pdp, info_plots\n",
    "\n",
    "warnings.filterwarnings('ignore')\n",
    "\n",
    "pd.set_option('max_columns', 500)\n",
    "pd.set_option('max_rows', 500)\n",
    "\n",
    "%matplotlib inline"
   ]
  },
  {
   "cell_type": "code",
   "execution_count": 2,
   "id": "failing-executive",
   "metadata": {},
   "outputs": [
    {
     "data": {
      "text/plain": [
       "['domestic_consumption_data.csv',\n",
       " 'market_consumption_data.csv',\n",
       " 'reference_data',\n",
       " 'supplementary_data']"
      ]
     },
     "execution_count": 2,
     "metadata": {},
     "output_type": "execute_result"
    }
   ],
   "source": [
    "os.listdir('./input/')"
   ]
  },
  {
   "cell_type": "markdown",
   "id": "fleet-commission",
   "metadata": {},
   "source": [
    "### Load Dataset"
   ]
  },
  {
   "cell_type": "code",
   "execution_count": 3,
   "id": "intellectual-courage",
   "metadata": {},
   "outputs": [
    {
     "data": {
      "text/html": [
       "<div>\n",
       "<style scoped>\n",
       "    .dataframe tbody tr th:only-of-type {\n",
       "        vertical-align: middle;\n",
       "    }\n",
       "\n",
       "    .dataframe tbody tr th {\n",
       "        vertical-align: top;\n",
       "    }\n",
       "\n",
       "    .dataframe thead th {\n",
       "        text-align: right;\n",
       "    }\n",
       "</style>\n",
       "<table border=\"1\" class=\"dataframe\">\n",
       "  <thead>\n",
       "    <tr style=\"text-align: right;\">\n",
       "      <th></th>\n",
       "      <th>기준년월</th>\n",
       "      <th>관광객 유형</th>\n",
       "      <th>제주 대분류</th>\n",
       "      <th>제주 중분류</th>\n",
       "      <th>업종명</th>\n",
       "      <th>성별</th>\n",
       "      <th>연령대별</th>\n",
       "      <th>카드이용금액</th>\n",
       "      <th>카드이용건수</th>\n",
       "      <th>건당이용금액</th>\n",
       "      <th>데이터기준일자</th>\n",
       "    </tr>\n",
       "  </thead>\n",
       "  <tbody>\n",
       "    <tr>\n",
       "      <th>0</th>\n",
       "      <td>2014-09-01</td>\n",
       "      <td>내국인 관광객</td>\n",
       "      <td>서귀포시</td>\n",
       "      <td>대륜동</td>\n",
       "      <td>농축수산품</td>\n",
       "      <td>여</td>\n",
       "      <td>50대</td>\n",
       "      <td>14434000</td>\n",
       "      <td>67</td>\n",
       "      <td>215433</td>\n",
       "      <td>2017-02-16</td>\n",
       "    </tr>\n",
       "    <tr>\n",
       "      <th>1</th>\n",
       "      <td>2014-09-01</td>\n",
       "      <td>내국인 관광객</td>\n",
       "      <td>서귀포시</td>\n",
       "      <td>대륜동</td>\n",
       "      <td>농축수산품</td>\n",
       "      <td>남</td>\n",
       "      <td>50대</td>\n",
       "      <td>15119000</td>\n",
       "      <td>72</td>\n",
       "      <td>209986</td>\n",
       "      <td>2017-02-16</td>\n",
       "    </tr>\n",
       "    <tr>\n",
       "      <th>2</th>\n",
       "      <td>2014-09-01</td>\n",
       "      <td>내국인 관광객</td>\n",
       "      <td>서귀포시</td>\n",
       "      <td>대륜동</td>\n",
       "      <td>농축수산품</td>\n",
       "      <td>여</td>\n",
       "      <td>40대</td>\n",
       "      <td>7609500</td>\n",
       "      <td>41</td>\n",
       "      <td>185598</td>\n",
       "      <td>2017-02-16</td>\n",
       "    </tr>\n",
       "    <tr>\n",
       "      <th>3</th>\n",
       "      <td>2014-09-01</td>\n",
       "      <td>내국인 관광객</td>\n",
       "      <td>서귀포시</td>\n",
       "      <td>남원읍</td>\n",
       "      <td>농축수산품</td>\n",
       "      <td>남</td>\n",
       "      <td>50대</td>\n",
       "      <td>7092500</td>\n",
       "      <td>40</td>\n",
       "      <td>177313</td>\n",
       "      <td>2017-02-16</td>\n",
       "    </tr>\n",
       "    <tr>\n",
       "      <th>4</th>\n",
       "      <td>2014-09-01</td>\n",
       "      <td>내국인 관광객</td>\n",
       "      <td>서귀포시</td>\n",
       "      <td>대륜동</td>\n",
       "      <td>농축수산품</td>\n",
       "      <td>남</td>\n",
       "      <td>40대</td>\n",
       "      <td>9098500</td>\n",
       "      <td>59</td>\n",
       "      <td>154212</td>\n",
       "      <td>2017-02-16</td>\n",
       "    </tr>\n",
       "  </tbody>\n",
       "</table>\n",
       "</div>"
      ],
      "text/plain": [
       "        기준년월   관광객 유형 제주 대분류 제주 중분류    업종명 성별 연령대별   카드이용금액    카드이용건수   \\\n",
       "0 2014-09-01  내국인 관광객   서귀포시    대륜동  농축수산품  여  50대  14434000        67   \n",
       "1 2014-09-01  내국인 관광객   서귀포시    대륜동  농축수산품  남  50대  15119000        72   \n",
       "2 2014-09-01  내국인 관광객   서귀포시    대륜동  농축수산품  여  40대   7609500        41   \n",
       "3 2014-09-01  내국인 관광객   서귀포시    남원읍  농축수산품  남  50대   7092500        40   \n",
       "4 2014-09-01  내국인 관광객   서귀포시    대륜동  농축수산품  남  40대   9098500        59   \n",
       "\n",
       "   건당이용금액    데이터기준일자  \n",
       "0  215433 2017-02-16  \n",
       "1  209986 2017-02-16  \n",
       "2  185598 2017-02-16  \n",
       "3  177313 2017-02-16  \n",
       "4  154212 2017-02-16  "
      ]
     },
     "execution_count": 3,
     "metadata": {},
     "output_type": "execute_result"
    }
   ],
   "source": [
    "data = pd.read_csv('./input/domestic_consumption_data.csv',parse_dates=['기준년월','데이터기준일자'],encoding='ANSI')\n",
    "data.head()"
   ]
  },
  {
   "cell_type": "code",
   "execution_count": 4,
   "id": "silent-tourist",
   "metadata": {},
   "outputs": [
    {
     "data": {
      "text/plain": [
       "Index(['기준년월', '관광객 유형', '제주 대분류', '제주 중분류', '업종명', '성별', '연령대별', ' 카드이용금액 ',\n",
       "       ' 카드이용건수 ', '건당이용금액', '데이터기준일자'],\n",
       "      dtype='object')"
      ]
     },
     "execution_count": 4,
     "metadata": {},
     "output_type": "execute_result"
    }
   ],
   "source": [
    "data.columns"
   ]
  },
  {
   "cell_type": "markdown",
   "id": "acknowledged-investigator",
   "metadata": {},
   "source": [
    "### Columns\n",
    "- 기준년월 : 해당 데이터가 발생한 날짜\n",
    "- 관광객 유형 : 모두 내국인 관광객으로 동일\n",
    "- 제주 대분류 : 제주시, 서귀포시\n",
    "- 제주 중분류 : 읍면동\n",
    "- 업종명 : 업종의 종류를 나타낸다.\n",
    "- 성별 : 남/여\n",
    "- 연령대별 : 연령대\n",
    "- 카드이용금액\n",
    "- 카드이용건수\n",
    "- 건당이용금액 : 카드이용금액 / 카드이용건수\n",
    "- 데이터기준일자 : database가 만들어진 날짜\n",
    "\n",
    "'데이터 기준일자'은 2017-02-16으로 모두 동일하고,  '관광객 유형'은 모두 내국인 관광객으로 동일하므로 삭제한다. 또한 column명 중 불필요한 공백은 제거한다."
   ]
  },
  {
   "cell_type": "code",
   "execution_count": 5,
   "id": "split-quantum",
   "metadata": {},
   "outputs": [
    {
     "data": {
      "text/plain": [
       "Index(['기준년월', '제주 대분류', '제주 중분류', '업종명', '성별', '연령대별', '카드이용금액', '카드이용건수',\n",
       "       '건당이용금액'],\n",
       "      dtype='object')"
      ]
     },
     "execution_count": 5,
     "metadata": {},
     "output_type": "execute_result"
    }
   ],
   "source": [
    "# columns명 중 앞뒤 공백이 있는 string은 제거해준다.\n",
    "data.drop(['관광객 유형','데이터기준일자'],axis=1,inplace=True)\n",
    "data.rename(columns={' 카드이용금액 ':'카드이용금액',' 카드이용건수 ': '카드이용건수'},inplace=True)\n",
    "data.columns"
   ]
  },
  {
   "cell_type": "markdown",
   "id": "nuclear-being",
   "metadata": {},
   "source": [
    "중복되는 데이터는 없다."
   ]
  },
  {
   "cell_type": "code",
   "execution_count": 6,
   "id": "digital-burst",
   "metadata": {},
   "outputs": [
    {
     "data": {
      "text/plain": [
       "(13146, 9)"
      ]
     },
     "metadata": {},
     "output_type": "display_data"
    },
    {
     "data": {
      "text/plain": [
       "0"
      ]
     },
     "metadata": {},
     "output_type": "display_data"
    }
   ],
   "source": [
    "display(data.shape)\n",
    "display(data.duplicated().sum())"
   ]
  },
  {
   "cell_type": "markdown",
   "id": "composite-reception",
   "metadata": {},
   "source": [
    "### Missing Value\n",
    "결측치는 없다."
   ]
  },
  {
   "cell_type": "code",
   "execution_count": 7,
   "id": "suspected-payroll",
   "metadata": {},
   "outputs": [],
   "source": [
    "# 한글 글꼴 설정\n",
    "import matplotlib.font_manager as fm\n",
    "\n",
    "fm.get_fontconfig_fonts()\n",
    "plt.rc('font', family='Malgun Gothic')"
   ]
  },
  {
   "cell_type": "code",
   "execution_count": 8,
   "id": "ethical-mozambique",
   "metadata": {},
   "outputs": [
    {
     "name": "stdout",
     "output_type": "stream",
     "text": [
      "<class 'pandas.core.frame.DataFrame'>\n",
      "RangeIndex: 13146 entries, 0 to 13145\n",
      "Data columns (total 9 columns):\n",
      " #   Column  Non-Null Count  Dtype         \n",
      "---  ------  --------------  -----         \n",
      " 0   기준년월    13146 non-null  datetime64[ns]\n",
      " 1   제주 대분류  13146 non-null  object        \n",
      " 2   제주 중분류  13146 non-null  object        \n",
      " 3   업종명     13146 non-null  object        \n",
      " 4   성별      13146 non-null  object        \n",
      " 5   연령대별    13146 non-null  object        \n",
      " 6   카드이용금액  13146 non-null  int64         \n",
      " 7   카드이용건수  13146 non-null  int64         \n",
      " 8   건당이용금액  13146 non-null  int64         \n",
      "dtypes: datetime64[ns](1), int64(3), object(5)\n",
      "memory usage: 924.5+ KB\n"
     ]
    }
   ],
   "source": [
    "data.info()"
   ]
  },
  {
   "cell_type": "markdown",
   "id": "ruled-browse",
   "metadata": {},
   "source": [
    "### 기준년월\n",
    "모든 데이터들은 매월 1일자로 데이터가 기록되어있다."
   ]
  },
  {
   "cell_type": "code",
   "execution_count": 9,
   "id": "restricted-cyprus",
   "metadata": {},
   "outputs": [
    {
     "name": "stdout",
     "output_type": "stream",
     "text": [
      "min   2014-09-01\n",
      "max   2016-08-01\n",
      "Name: 기준년월, dtype: datetime64[ns] \n",
      "\n"
     ]
    },
    {
     "data": {
      "text/plain": [
       "None"
      ]
     },
     "metadata": {},
     "output_type": "display_data"
    },
    {
     "name": "stdout",
     "output_type": "stream",
     "text": [
      "['2014-09-01T00:00:00.000000000' '2014-10-01T00:00:00.000000000'\n",
      " '2014-11-01T00:00:00.000000000' '2014-12-01T00:00:00.000000000'\n",
      " '2015-01-01T00:00:00.000000000' '2015-02-01T00:00:00.000000000'\n",
      " '2015-03-01T00:00:00.000000000' '2015-04-01T00:00:00.000000000'\n",
      " '2015-05-01T00:00:00.000000000' '2015-06-01T00:00:00.000000000'\n",
      " '2015-07-01T00:00:00.000000000' '2015-08-01T00:00:00.000000000'\n",
      " '2015-09-01T00:00:00.000000000' '2015-10-01T00:00:00.000000000'\n",
      " '2015-11-01T00:00:00.000000000' '2015-12-01T00:00:00.000000000'\n",
      " '2016-01-01T00:00:00.000000000' '2016-02-01T00:00:00.000000000'\n",
      " '2016-03-01T00:00:00.000000000' '2016-04-01T00:00:00.000000000'\n",
      " '2016-05-01T00:00:00.000000000' '2016-06-01T00:00:00.000000000'\n",
      " '2016-07-01T00:00:00.000000000' '2016-08-01T00:00:00.000000000']\n"
     ]
    },
    {
     "data": {
      "text/plain": [
       "None"
      ]
     },
     "metadata": {},
     "output_type": "display_data"
    }
   ],
   "source": [
    "display(print(data['기준년월'].agg(['min','max']),'\\n'))\n",
    "display(print(data['기준년월'].unique()))"
   ]
  },
  {
   "cell_type": "markdown",
   "id": "superior-performer",
   "metadata": {},
   "source": [
    "### 제주 대분류, 제주 중분류"
   ]
  },
  {
   "cell_type": "code",
   "execution_count": 10,
   "id": "silent-bridges",
   "metadata": {},
   "outputs": [
    {
     "data": {
      "text/plain": [
       "Index(['기준년월', '제주 대분류', '제주 중분류', '업종명', '성별', '연령대별', '카드이용금액', '카드이용건수',\n",
       "       '건당이용금액'],\n",
       "      dtype='object')"
      ]
     },
     "execution_count": 10,
     "metadata": {},
     "output_type": "execute_result"
    }
   ],
   "source": [
    "data.columns"
   ]
  },
  {
   "cell_type": "code",
   "execution_count": 11,
   "id": "adjusted-absence",
   "metadata": {},
   "outputs": [
    {
     "name": "stdout",
     "output_type": "stream",
     "text": [
      "도시의 갯수 : 2\n"
     ]
    },
    {
     "data": {
      "text/plain": [
       "None"
      ]
     },
     "metadata": {},
     "output_type": "display_data"
    },
    {
     "name": "stdout",
     "output_type": "stream",
     "text": [
      "['서귀포시' '제주시']\n"
     ]
    },
    {
     "data": {
      "text/plain": [
       "None"
      ]
     },
     "metadata": {},
     "output_type": "display_data"
    },
    {
     "name": "stdout",
     "output_type": "stream",
     "text": [
      "동네의 갯수 : 10\n"
     ]
    },
    {
     "data": {
      "text/plain": [
       "None"
      ]
     },
     "metadata": {},
     "output_type": "display_data"
    },
    {
     "name": "stdout",
     "output_type": "stream",
     "text": [
      "['대륜동' '남원읍' '연동' '예래동' '이도2동' '삼도2동' '용담2동' '노형동' '애월읍' '성산읍']\n"
     ]
    },
    {
     "data": {
      "text/plain": [
       "None"
      ]
     },
     "metadata": {},
     "output_type": "display_data"
    }
   ],
   "source": [
    "city_in_jejudo = data['제주 대분류'].unique()\n",
    "town_in_jejudo = data['제주 중분류'].unique()\n",
    "display(print('도시의 갯수 : {}'.format(len(city_in_jejudo))))\n",
    "display(print(city_in_jejudo))\n",
    "display(print('동네의 갯수 : {}'.format(len(town_in_jejudo))))\n",
    "display(print(town_in_jejudo))"
   ]
  },
  {
   "cell_type": "code",
   "execution_count": 12,
   "id": "crude-thanks",
   "metadata": {},
   "outputs": [
    {
     "data": {
      "text/plain": [
       "['.git',\n",
       " '.idea',\n",
       " '.ipynb_checkpoints',\n",
       " 'consumption pattern analysis of jeju tourist.ipynb',\n",
       " 'get_position.py',\n",
       " 'input',\n",
       " 'jeju_town_pos',\n",
       " 'NanumFontSetup_TTF_BARUNGOTHIC']"
      ]
     },
     "execution_count": 12,
     "metadata": {},
     "output_type": "execute_result"
    }
   ],
   "source": [
    "os.listdir('.')"
   ]
  },
  {
   "cell_type": "code",
   "execution_count": 13,
   "id": "spiritual-spare",
   "metadata": {},
   "outputs": [
    {
     "data": {
      "text/plain": [
       "(10, 3)"
      ]
     },
     "metadata": {},
     "output_type": "display_data"
    },
    {
     "data": {
      "text/html": [
       "<div>\n",
       "<style scoped>\n",
       "    .dataframe tbody tr th:only-of-type {\n",
       "        vertical-align: middle;\n",
       "    }\n",
       "\n",
       "    .dataframe tbody tr th {\n",
       "        vertical-align: top;\n",
       "    }\n",
       "\n",
       "    .dataframe thead th {\n",
       "        text-align: right;\n",
       "    }\n",
       "</style>\n",
       "<table border=\"1\" class=\"dataframe\">\n",
       "  <thead>\n",
       "    <tr style=\"text-align: right;\">\n",
       "      <th></th>\n",
       "      <th>address</th>\n",
       "      <th>latitude</th>\n",
       "      <th>longitude</th>\n",
       "    </tr>\n",
       "  </thead>\n",
       "  <tbody>\n",
       "    <tr>\n",
       "      <th>0</th>\n",
       "      <td>대륜동</td>\n",
       "      <td>33.248109</td>\n",
       "      <td>126.511403</td>\n",
       "    </tr>\n",
       "    <tr>\n",
       "      <th>1</th>\n",
       "      <td>남원읍</td>\n",
       "      <td>33.279925</td>\n",
       "      <td>126.720650</td>\n",
       "    </tr>\n",
       "    <tr>\n",
       "      <th>2</th>\n",
       "      <td>연동</td>\n",
       "      <td>34.794701</td>\n",
       "      <td>126.391650</td>\n",
       "    </tr>\n",
       "    <tr>\n",
       "      <th>3</th>\n",
       "      <td>예래동</td>\n",
       "      <td>33.254292</td>\n",
       "      <td>126.397863</td>\n",
       "    </tr>\n",
       "    <tr>\n",
       "      <th>4</th>\n",
       "      <td>이도2동</td>\n",
       "      <td>33.497068</td>\n",
       "      <td>126.535275</td>\n",
       "    </tr>\n",
       "    <tr>\n",
       "      <th>5</th>\n",
       "      <td>삼도2동</td>\n",
       "      <td>33.511717</td>\n",
       "      <td>126.522188</td>\n",
       "    </tr>\n",
       "    <tr>\n",
       "      <th>6</th>\n",
       "      <td>용담2동</td>\n",
       "      <td>33.511492</td>\n",
       "      <td>126.511663</td>\n",
       "    </tr>\n",
       "    <tr>\n",
       "      <th>7</th>\n",
       "      <td>노형동</td>\n",
       "      <td>33.483085</td>\n",
       "      <td>126.477175</td>\n",
       "    </tr>\n",
       "    <tr>\n",
       "      <th>8</th>\n",
       "      <td>애월읍</td>\n",
       "      <td>33.462010</td>\n",
       "      <td>126.329488</td>\n",
       "    </tr>\n",
       "    <tr>\n",
       "      <th>9</th>\n",
       "      <td>성산읍</td>\n",
       "      <td>33.442135</td>\n",
       "      <td>126.911013</td>\n",
       "    </tr>\n",
       "  </tbody>\n",
       "</table>\n",
       "</div>"
      ],
      "text/plain": [
       "  address   latitude   longitude\n",
       "0     대륜동  33.248109  126.511403\n",
       "1     남원읍  33.279925  126.720650\n",
       "2      연동  34.794701  126.391650\n",
       "3     예래동  33.254292  126.397863\n",
       "4    이도2동  33.497068  126.535275\n",
       "5    삼도2동  33.511717  126.522188\n",
       "6    용담2동  33.511492  126.511663\n",
       "7     노형동  33.483085  126.477175\n",
       "8     애월읍  33.462010  126.329488\n",
       "9     성산읍  33.442135  126.911013"
      ]
     },
     "metadata": {},
     "output_type": "display_data"
    }
   ],
   "source": [
    "town_pos = pd.read_csv('./jeju_town_pos')\n",
    "display(town_pos.shape)\n",
    "display(town_pos)"
   ]
  },
  {
   "cell_type": "code",
   "execution_count": 14,
   "id": "brutal-stadium",
   "metadata": {},
   "outputs": [
    {
     "data": {
      "text/html": [
       "<div style=\"width:100%;\"><div style=\"position:relative;width:100%;height:0;padding-bottom:60%;\"><span style=\"color:#565656\">Make this Notebook Trusted to load map: File -> Trust Notebook</span><iframe src=\"about:blank\" style=\"position:absolute;width:100%;height:100%;left:0;top:0;border:none !important;\" data-html=%3C%21DOCTYPE%20html%3E%0A%3Chead%3E%20%20%20%20%0A%20%20%20%20%3Cmeta%20http-equiv%3D%22content-type%22%20content%3D%22text/html%3B%20charset%3DUTF-8%22%20/%3E%0A%20%20%20%20%0A%20%20%20%20%20%20%20%20%3Cscript%3E%0A%20%20%20%20%20%20%20%20%20%20%20%20L_NO_TOUCH%20%3D%20false%3B%0A%20%20%20%20%20%20%20%20%20%20%20%20L_DISABLE_3D%20%3D%20false%3B%0A%20%20%20%20%20%20%20%20%3C/script%3E%0A%20%20%20%20%0A%20%20%20%20%3Cstyle%3Ehtml%2C%20body%20%7Bwidth%3A%20100%25%3Bheight%3A%20100%25%3Bmargin%3A%200%3Bpadding%3A%200%3B%7D%3C/style%3E%0A%20%20%20%20%3Cstyle%3E%23map%20%7Bposition%3Aabsolute%3Btop%3A0%3Bbottom%3A0%3Bright%3A0%3Bleft%3A0%3B%7D%3C/style%3E%0A%20%20%20%20%3Cscript%20src%3D%22https%3A//cdn.jsdelivr.net/npm/leaflet%401.6.0/dist/leaflet.js%22%3E%3C/script%3E%0A%20%20%20%20%3Cscript%20src%3D%22https%3A//code.jquery.com/jquery-1.12.4.min.js%22%3E%3C/script%3E%0A%20%20%20%20%3Cscript%20src%3D%22https%3A//maxcdn.bootstrapcdn.com/bootstrap/3.2.0/js/bootstrap.min.js%22%3E%3C/script%3E%0A%20%20%20%20%3Cscript%20src%3D%22https%3A//cdnjs.cloudflare.com/ajax/libs/Leaflet.awesome-markers/2.0.2/leaflet.awesome-markers.js%22%3E%3C/script%3E%0A%20%20%20%20%3Clink%20rel%3D%22stylesheet%22%20href%3D%22https%3A//cdn.jsdelivr.net/npm/leaflet%401.6.0/dist/leaflet.css%22/%3E%0A%20%20%20%20%3Clink%20rel%3D%22stylesheet%22%20href%3D%22https%3A//maxcdn.bootstrapcdn.com/bootstrap/3.2.0/css/bootstrap.min.css%22/%3E%0A%20%20%20%20%3Clink%20rel%3D%22stylesheet%22%20href%3D%22https%3A//maxcdn.bootstrapcdn.com/bootstrap/3.2.0/css/bootstrap-theme.min.css%22/%3E%0A%20%20%20%20%3Clink%20rel%3D%22stylesheet%22%20href%3D%22https%3A//maxcdn.bootstrapcdn.com/font-awesome/4.6.3/css/font-awesome.min.css%22/%3E%0A%20%20%20%20%3Clink%20rel%3D%22stylesheet%22%20href%3D%22https%3A//cdnjs.cloudflare.com/ajax/libs/Leaflet.awesome-markers/2.0.2/leaflet.awesome-markers.css%22/%3E%0A%20%20%20%20%3Clink%20rel%3D%22stylesheet%22%20href%3D%22https%3A//cdn.jsdelivr.net/gh/python-visualization/folium/folium/templates/leaflet.awesome.rotate.min.css%22/%3E%0A%20%20%20%20%0A%20%20%20%20%20%20%20%20%20%20%20%20%3Cmeta%20name%3D%22viewport%22%20content%3D%22width%3Ddevice-width%2C%0A%20%20%20%20%20%20%20%20%20%20%20%20%20%20%20%20initial-scale%3D1.0%2C%20maximum-scale%3D1.0%2C%20user-scalable%3Dno%22%20/%3E%0A%20%20%20%20%20%20%20%20%20%20%20%20%3Cstyle%3E%0A%20%20%20%20%20%20%20%20%20%20%20%20%20%20%20%20%23map_32275c70eaf0464c87b108f84cddfb9c%20%7B%0A%20%20%20%20%20%20%20%20%20%20%20%20%20%20%20%20%20%20%20%20position%3A%20relative%3B%0A%20%20%20%20%20%20%20%20%20%20%20%20%20%20%20%20%20%20%20%20width%3A%20100.0%25%3B%0A%20%20%20%20%20%20%20%20%20%20%20%20%20%20%20%20%20%20%20%20height%3A%20100.0%25%3B%0A%20%20%20%20%20%20%20%20%20%20%20%20%20%20%20%20%20%20%20%20left%3A%200.0%25%3B%0A%20%20%20%20%20%20%20%20%20%20%20%20%20%20%20%20%20%20%20%20top%3A%200.0%25%3B%0A%20%20%20%20%20%20%20%20%20%20%20%20%20%20%20%20%7D%0A%20%20%20%20%20%20%20%20%20%20%20%20%3C/style%3E%0A%20%20%20%20%20%20%20%20%0A%20%20%20%20%3Cscript%20src%3D%22https%3A//cdnjs.cloudflare.com/ajax/libs/leaflet.markercluster/1.1.0/leaflet.markercluster.js%22%3E%3C/script%3E%0A%20%20%20%20%3Clink%20rel%3D%22stylesheet%22%20href%3D%22https%3A//cdnjs.cloudflare.com/ajax/libs/leaflet.markercluster/1.1.0/MarkerCluster.css%22/%3E%0A%20%20%20%20%3Clink%20rel%3D%22stylesheet%22%20href%3D%22https%3A//cdnjs.cloudflare.com/ajax/libs/leaflet.markercluster/1.1.0/MarkerCluster.Default.css%22/%3E%0A%3C/head%3E%0A%3Cbody%3E%20%20%20%20%0A%20%20%20%20%0A%20%20%20%20%20%20%20%20%20%20%20%20%3Cdiv%20class%3D%22folium-map%22%20id%3D%22map_32275c70eaf0464c87b108f84cddfb9c%22%20%3E%3C/div%3E%0A%20%20%20%20%20%20%20%20%0A%3C/body%3E%0A%3Cscript%3E%20%20%20%20%0A%20%20%20%20%0A%20%20%20%20%20%20%20%20%20%20%20%20var%20map_32275c70eaf0464c87b108f84cddfb9c%20%3D%20L.map%28%0A%20%20%20%20%20%20%20%20%20%20%20%20%20%20%20%20%22map_32275c70eaf0464c87b108f84cddfb9c%22%2C%0A%20%20%20%20%20%20%20%20%20%20%20%20%20%20%20%20%7B%0A%20%20%20%20%20%20%20%20%20%20%20%20%20%20%20%20%20%20%20%20center%3A%20%5B33.3617%2C%20126.5292%5D%2C%0A%20%20%20%20%20%20%20%20%20%20%20%20%20%20%20%20%20%20%20%20crs%3A%20L.CRS.EPSG3857%2C%0A%20%20%20%20%20%20%20%20%20%20%20%20%20%20%20%20%20%20%20%20zoom%3A%2010%2C%0A%20%20%20%20%20%20%20%20%20%20%20%20%20%20%20%20%20%20%20%20zoomControl%3A%20true%2C%0A%20%20%20%20%20%20%20%20%20%20%20%20%20%20%20%20%20%20%20%20preferCanvas%3A%20false%2C%0A%20%20%20%20%20%20%20%20%20%20%20%20%20%20%20%20%7D%0A%20%20%20%20%20%20%20%20%20%20%20%20%29%3B%0A%0A%20%20%20%20%20%20%20%20%20%20%20%20%0A%0A%20%20%20%20%20%20%20%20%0A%20%20%20%20%0A%20%20%20%20%20%20%20%20%20%20%20%20var%20tile_layer_37176dea6c0f48258463078da3008b07%20%3D%20L.tileLayer%28%0A%20%20%20%20%20%20%20%20%20%20%20%20%20%20%20%20%22https%3A//cartodb-basemaps-%7Bs%7D.global.ssl.fastly.net/light_all/%7Bz%7D/%7Bx%7D/%7By%7D.png%22%2C%0A%20%20%20%20%20%20%20%20%20%20%20%20%20%20%20%20%7B%22attribution%22%3A%20%22%5Cu0026copy%3B%20%5Cu003ca%20href%3D%5C%22http%3A//www.openstreetmap.org/copyright%5C%22%5Cu003eOpenStreetMap%5Cu003c/a%5Cu003e%20contributors%20%5Cu0026copy%3B%20%5Cu003ca%20href%3D%5C%22http%3A//cartodb.com/attributions%5C%22%5Cu003eCartoDB%5Cu003c/a%5Cu003e%2C%20CartoDB%20%5Cu003ca%20href%20%3D%5C%22http%3A//cartodb.com/attributions%5C%22%5Cu003eattributions%5Cu003c/a%5Cu003e%22%2C%20%22detectRetina%22%3A%20false%2C%20%22maxNativeZoom%22%3A%2018%2C%20%22maxZoom%22%3A%2018%2C%20%22minZoom%22%3A%200%2C%20%22noWrap%22%3A%20false%2C%20%22opacity%22%3A%201%2C%20%22subdomains%22%3A%20%22abc%22%2C%20%22tms%22%3A%20false%7D%0A%20%20%20%20%20%20%20%20%20%20%20%20%29.addTo%28map_32275c70eaf0464c87b108f84cddfb9c%29%3B%0A%20%20%20%20%20%20%20%20%0A%20%20%20%20%0A%20%20%20%20%20%20%20%20%20%20%20%20var%20marker_cluster_83782287de1b4adea7b8897089fa4c15%20%3D%20L.markerClusterGroup%28%0A%20%20%20%20%20%20%20%20%20%20%20%20%20%20%20%20%7B%7D%0A%20%20%20%20%20%20%20%20%20%20%20%20%29%3B%0A%20%20%20%20%20%20%20%20%20%20%20%20map_32275c70eaf0464c87b108f84cddfb9c.addLayer%28marker_cluster_83782287de1b4adea7b8897089fa4c15%29%3B%0A%20%20%20%20%20%20%20%20%0A%20%20%20%20%0A%20%20%20%20%20%20%20%20%20%20%20%20var%20marker_8afa9dcac43249feb845e148dcb448c1%20%3D%20L.marker%28%0A%20%20%20%20%20%20%20%20%20%20%20%20%20%20%20%20%5B33.2481094%2C%20126.5114028%5D%2C%0A%20%20%20%20%20%20%20%20%20%20%20%20%20%20%20%20%7B%7D%0A%20%20%20%20%20%20%20%20%20%20%20%20%29.addTo%28marker_cluster_83782287de1b4adea7b8897089fa4c15%29%3B%0A%20%20%20%20%20%20%20%20%0A%20%20%20%20%0A%20%20%20%20%20%20%20%20var%20popup_6f1be6f2d53e469d8b8370a50d108ff9%20%3D%20L.popup%28%7B%22maxWidth%22%3A%20%22100%25%22%7D%29%3B%0A%0A%20%20%20%20%20%20%20%20%0A%20%20%20%20%20%20%20%20%20%20%20%20var%20html_92dda5e6daf14f139d0b210b59f820f6%20%3D%20%24%28%60%3Cdiv%20id%3D%22html_92dda5e6daf14f139d0b210b59f820f6%22%20style%3D%22width%3A%20100.0%25%3B%20height%3A%20100.0%25%3B%22%3E%EB%8C%80%EB%A5%9C%EB%8F%99%3C/div%3E%60%29%5B0%5D%3B%0A%20%20%20%20%20%20%20%20%20%20%20%20popup_6f1be6f2d53e469d8b8370a50d108ff9.setContent%28html_92dda5e6daf14f139d0b210b59f820f6%29%3B%0A%20%20%20%20%20%20%20%20%0A%0A%20%20%20%20%20%20%20%20marker_8afa9dcac43249feb845e148dcb448c1.bindPopup%28popup_6f1be6f2d53e469d8b8370a50d108ff9%29%0A%20%20%20%20%20%20%20%20%3B%0A%0A%20%20%20%20%20%20%20%20%0A%20%20%20%20%0A%20%20%20%20%0A%20%20%20%20%20%20%20%20%20%20%20%20var%20marker_415fc19b33fd4ef0b2366d062b615f3b%20%3D%20L.marker%28%0A%20%20%20%20%20%20%20%20%20%20%20%20%20%20%20%20%5B33.279925%2C%20126.72065%5D%2C%0A%20%20%20%20%20%20%20%20%20%20%20%20%20%20%20%20%7B%7D%0A%20%20%20%20%20%20%20%20%20%20%20%20%29.addTo%28marker_cluster_83782287de1b4adea7b8897089fa4c15%29%3B%0A%20%20%20%20%20%20%20%20%0A%20%20%20%20%0A%20%20%20%20%20%20%20%20var%20popup_37f97b618d6b4a349e1127c39d93ddce%20%3D%20L.popup%28%7B%22maxWidth%22%3A%20%22100%25%22%7D%29%3B%0A%0A%20%20%20%20%20%20%20%20%0A%20%20%20%20%20%20%20%20%20%20%20%20var%20html_2122cdab710f49c8b23ce14c30e299f0%20%3D%20%24%28%60%3Cdiv%20id%3D%22html_2122cdab710f49c8b23ce14c30e299f0%22%20style%3D%22width%3A%20100.0%25%3B%20height%3A%20100.0%25%3B%22%3E%EB%82%A8%EC%9B%90%EC%9D%8D%3C/div%3E%60%29%5B0%5D%3B%0A%20%20%20%20%20%20%20%20%20%20%20%20popup_37f97b618d6b4a349e1127c39d93ddce.setContent%28html_2122cdab710f49c8b23ce14c30e299f0%29%3B%0A%20%20%20%20%20%20%20%20%0A%0A%20%20%20%20%20%20%20%20marker_415fc19b33fd4ef0b2366d062b615f3b.bindPopup%28popup_37f97b618d6b4a349e1127c39d93ddce%29%0A%20%20%20%20%20%20%20%20%3B%0A%0A%20%20%20%20%20%20%20%20%0A%20%20%20%20%0A%20%20%20%20%0A%20%20%20%20%20%20%20%20%20%20%20%20var%20marker_97314d97263540d6bba32ea4384b42ae%20%3D%20L.marker%28%0A%20%20%20%20%20%20%20%20%20%20%20%20%20%20%20%20%5B34.7947012%2C%20126.39165%5D%2C%0A%20%20%20%20%20%20%20%20%20%20%20%20%20%20%20%20%7B%7D%0A%20%20%20%20%20%20%20%20%20%20%20%20%29.addTo%28marker_cluster_83782287de1b4adea7b8897089fa4c15%29%3B%0A%20%20%20%20%20%20%20%20%0A%20%20%20%20%0A%20%20%20%20%20%20%20%20var%20popup_74bf01e301e84f7bbd1c10801a89e072%20%3D%20L.popup%28%7B%22maxWidth%22%3A%20%22100%25%22%7D%29%3B%0A%0A%20%20%20%20%20%20%20%20%0A%20%20%20%20%20%20%20%20%20%20%20%20var%20html_cc2c609663eb4b21bc185a3ca711244d%20%3D%20%24%28%60%3Cdiv%20id%3D%22html_cc2c609663eb4b21bc185a3ca711244d%22%20style%3D%22width%3A%20100.0%25%3B%20height%3A%20100.0%25%3B%22%3E%EC%97%B0%EB%8F%99%3C/div%3E%60%29%5B0%5D%3B%0A%20%20%20%20%20%20%20%20%20%20%20%20popup_74bf01e301e84f7bbd1c10801a89e072.setContent%28html_cc2c609663eb4b21bc185a3ca711244d%29%3B%0A%20%20%20%20%20%20%20%20%0A%0A%20%20%20%20%20%20%20%20marker_97314d97263540d6bba32ea4384b42ae.bindPopup%28popup_74bf01e301e84f7bbd1c10801a89e072%29%0A%20%20%20%20%20%20%20%20%3B%0A%0A%20%20%20%20%20%20%20%20%0A%20%20%20%20%0A%20%20%20%20%0A%20%20%20%20%20%20%20%20%20%20%20%20var%20marker_c92804ff0f114c228193f50ff536b786%20%3D%20L.marker%28%0A%20%20%20%20%20%20%20%20%20%20%20%20%20%20%20%20%5B33.254292%2C%20126.397863%5D%2C%0A%20%20%20%20%20%20%20%20%20%20%20%20%20%20%20%20%7B%7D%0A%20%20%20%20%20%20%20%20%20%20%20%20%29.addTo%28marker_cluster_83782287de1b4adea7b8897089fa4c15%29%3B%0A%20%20%20%20%20%20%20%20%0A%20%20%20%20%0A%20%20%20%20%20%20%20%20var%20popup_f4ece60a3660450d87c0409fe912968b%20%3D%20L.popup%28%7B%22maxWidth%22%3A%20%22100%25%22%7D%29%3B%0A%0A%20%20%20%20%20%20%20%20%0A%20%20%20%20%20%20%20%20%20%20%20%20var%20html_8d1306e21b224ddf9b83eda1290498f0%20%3D%20%24%28%60%3Cdiv%20id%3D%22html_8d1306e21b224ddf9b83eda1290498f0%22%20style%3D%22width%3A%20100.0%25%3B%20height%3A%20100.0%25%3B%22%3E%EC%98%88%EB%9E%98%EB%8F%99%3C/div%3E%60%29%5B0%5D%3B%0A%20%20%20%20%20%20%20%20%20%20%20%20popup_f4ece60a3660450d87c0409fe912968b.setContent%28html_8d1306e21b224ddf9b83eda1290498f0%29%3B%0A%20%20%20%20%20%20%20%20%0A%0A%20%20%20%20%20%20%20%20marker_c92804ff0f114c228193f50ff536b786.bindPopup%28popup_f4ece60a3660450d87c0409fe912968b%29%0A%20%20%20%20%20%20%20%20%3B%0A%0A%20%20%20%20%20%20%20%20%0A%20%20%20%20%0A%20%20%20%20%0A%20%20%20%20%20%20%20%20%20%20%20%20var%20marker_457012ed9f854163a76956dfb3f9cc17%20%3D%20L.marker%28%0A%20%20%20%20%20%20%20%20%20%20%20%20%20%20%20%20%5B33.497068%2C%20126.535275%5D%2C%0A%20%20%20%20%20%20%20%20%20%20%20%20%20%20%20%20%7B%7D%0A%20%20%20%20%20%20%20%20%20%20%20%20%29.addTo%28marker_cluster_83782287de1b4adea7b8897089fa4c15%29%3B%0A%20%20%20%20%20%20%20%20%0A%20%20%20%20%0A%20%20%20%20%20%20%20%20var%20popup_b1c219d3faec4436bfbdd2b93d634ad6%20%3D%20L.popup%28%7B%22maxWidth%22%3A%20%22100%25%22%7D%29%3B%0A%0A%20%20%20%20%20%20%20%20%0A%20%20%20%20%20%20%20%20%20%20%20%20var%20html_757c378b9bb04c309230ddf503b3a84f%20%3D%20%24%28%60%3Cdiv%20id%3D%22html_757c378b9bb04c309230ddf503b3a84f%22%20style%3D%22width%3A%20100.0%25%3B%20height%3A%20100.0%25%3B%22%3E%EC%9D%B4%EB%8F%842%EB%8F%99%3C/div%3E%60%29%5B0%5D%3B%0A%20%20%20%20%20%20%20%20%20%20%20%20popup_b1c219d3faec4436bfbdd2b93d634ad6.setContent%28html_757c378b9bb04c309230ddf503b3a84f%29%3B%0A%20%20%20%20%20%20%20%20%0A%0A%20%20%20%20%20%20%20%20marker_457012ed9f854163a76956dfb3f9cc17.bindPopup%28popup_b1c219d3faec4436bfbdd2b93d634ad6%29%0A%20%20%20%20%20%20%20%20%3B%0A%0A%20%20%20%20%20%20%20%20%0A%20%20%20%20%0A%20%20%20%20%0A%20%20%20%20%20%20%20%20%20%20%20%20var%20marker_9dc60425f25440ed922b05c17dbf6275%20%3D%20L.marker%28%0A%20%20%20%20%20%20%20%20%20%20%20%20%20%20%20%20%5B33.511717%2C%20126.522188%5D%2C%0A%20%20%20%20%20%20%20%20%20%20%20%20%20%20%20%20%7B%7D%0A%20%20%20%20%20%20%20%20%20%20%20%20%29.addTo%28marker_cluster_83782287de1b4adea7b8897089fa4c15%29%3B%0A%20%20%20%20%20%20%20%20%0A%20%20%20%20%0A%20%20%20%20%20%20%20%20var%20popup_d377260a03884621b978881be9720793%20%3D%20L.popup%28%7B%22maxWidth%22%3A%20%22100%25%22%7D%29%3B%0A%0A%20%20%20%20%20%20%20%20%0A%20%20%20%20%20%20%20%20%20%20%20%20var%20html_36f303a4a6f44e9692278ba6715e023f%20%3D%20%24%28%60%3Cdiv%20id%3D%22html_36f303a4a6f44e9692278ba6715e023f%22%20style%3D%22width%3A%20100.0%25%3B%20height%3A%20100.0%25%3B%22%3E%EC%82%BC%EB%8F%842%EB%8F%99%3C/div%3E%60%29%5B0%5D%3B%0A%20%20%20%20%20%20%20%20%20%20%20%20popup_d377260a03884621b978881be9720793.setContent%28html_36f303a4a6f44e9692278ba6715e023f%29%3B%0A%20%20%20%20%20%20%20%20%0A%0A%20%20%20%20%20%20%20%20marker_9dc60425f25440ed922b05c17dbf6275.bindPopup%28popup_d377260a03884621b978881be9720793%29%0A%20%20%20%20%20%20%20%20%3B%0A%0A%20%20%20%20%20%20%20%20%0A%20%20%20%20%0A%20%20%20%20%0A%20%20%20%20%20%20%20%20%20%20%20%20var%20marker_d805f2d0100043b99f8b20ab8bc6b163%20%3D%20L.marker%28%0A%20%20%20%20%20%20%20%20%20%20%20%20%20%20%20%20%5B33.511492%2C%20126.511663%5D%2C%0A%20%20%20%20%20%20%20%20%20%20%20%20%20%20%20%20%7B%7D%0A%20%20%20%20%20%20%20%20%20%20%20%20%29.addTo%28marker_cluster_83782287de1b4adea7b8897089fa4c15%29%3B%0A%20%20%20%20%20%20%20%20%0A%20%20%20%20%0A%20%20%20%20%20%20%20%20var%20popup_5fe2b27822fb4798a8e1d63724014bfd%20%3D%20L.popup%28%7B%22maxWidth%22%3A%20%22100%25%22%7D%29%3B%0A%0A%20%20%20%20%20%20%20%20%0A%20%20%20%20%20%20%20%20%20%20%20%20var%20html_3a8a7bd814034ff89a9727d2be6c8af9%20%3D%20%24%28%60%3Cdiv%20id%3D%22html_3a8a7bd814034ff89a9727d2be6c8af9%22%20style%3D%22width%3A%20100.0%25%3B%20height%3A%20100.0%25%3B%22%3E%EC%9A%A9%EB%8B%B42%EB%8F%99%3C/div%3E%60%29%5B0%5D%3B%0A%20%20%20%20%20%20%20%20%20%20%20%20popup_5fe2b27822fb4798a8e1d63724014bfd.setContent%28html_3a8a7bd814034ff89a9727d2be6c8af9%29%3B%0A%20%20%20%20%20%20%20%20%0A%0A%20%20%20%20%20%20%20%20marker_d805f2d0100043b99f8b20ab8bc6b163.bindPopup%28popup_5fe2b27822fb4798a8e1d63724014bfd%29%0A%20%20%20%20%20%20%20%20%3B%0A%0A%20%20%20%20%20%20%20%20%0A%20%20%20%20%0A%20%20%20%20%0A%20%20%20%20%20%20%20%20%20%20%20%20var%20marker_d78ea2a58aa145e1a72f2fb945edaad0%20%3D%20L.marker%28%0A%20%20%20%20%20%20%20%20%20%20%20%20%20%20%20%20%5B33.483085%2C%20126.477175%5D%2C%0A%20%20%20%20%20%20%20%20%20%20%20%20%20%20%20%20%7B%7D%0A%20%20%20%20%20%20%20%20%20%20%20%20%29.addTo%28marker_cluster_83782287de1b4adea7b8897089fa4c15%29%3B%0A%20%20%20%20%20%20%20%20%0A%20%20%20%20%0A%20%20%20%20%20%20%20%20var%20popup_df3d84bdb10145128708b5fba8c78654%20%3D%20L.popup%28%7B%22maxWidth%22%3A%20%22100%25%22%7D%29%3B%0A%0A%20%20%20%20%20%20%20%20%0A%20%20%20%20%20%20%20%20%20%20%20%20var%20html_3251244a31b44f53b73bc7d690957d4c%20%3D%20%24%28%60%3Cdiv%20id%3D%22html_3251244a31b44f53b73bc7d690957d4c%22%20style%3D%22width%3A%20100.0%25%3B%20height%3A%20100.0%25%3B%22%3E%EB%85%B8%ED%98%95%EB%8F%99%3C/div%3E%60%29%5B0%5D%3B%0A%20%20%20%20%20%20%20%20%20%20%20%20popup_df3d84bdb10145128708b5fba8c78654.setContent%28html_3251244a31b44f53b73bc7d690957d4c%29%3B%0A%20%20%20%20%20%20%20%20%0A%0A%20%20%20%20%20%20%20%20marker_d78ea2a58aa145e1a72f2fb945edaad0.bindPopup%28popup_df3d84bdb10145128708b5fba8c78654%29%0A%20%20%20%20%20%20%20%20%3B%0A%0A%20%20%20%20%20%20%20%20%0A%20%20%20%20%0A%20%20%20%20%0A%20%20%20%20%20%20%20%20%20%20%20%20var%20marker_aa5fa6b559c5404585bff0c858d413dd%20%3D%20L.marker%28%0A%20%20%20%20%20%20%20%20%20%20%20%20%20%20%20%20%5B33.46201%2C%20126.329488%5D%2C%0A%20%20%20%20%20%20%20%20%20%20%20%20%20%20%20%20%7B%7D%0A%20%20%20%20%20%20%20%20%20%20%20%20%29.addTo%28marker_cluster_83782287de1b4adea7b8897089fa4c15%29%3B%0A%20%20%20%20%20%20%20%20%0A%20%20%20%20%0A%20%20%20%20%20%20%20%20var%20popup_43e451d273f74dc8986d6f88b43aecc4%20%3D%20L.popup%28%7B%22maxWidth%22%3A%20%22100%25%22%7D%29%3B%0A%0A%20%20%20%20%20%20%20%20%0A%20%20%20%20%20%20%20%20%20%20%20%20var%20html_a0215c331fe44e53b4fe3f7c49efa42c%20%3D%20%24%28%60%3Cdiv%20id%3D%22html_a0215c331fe44e53b4fe3f7c49efa42c%22%20style%3D%22width%3A%20100.0%25%3B%20height%3A%20100.0%25%3B%22%3E%EC%95%A0%EC%9B%94%EC%9D%8D%3C/div%3E%60%29%5B0%5D%3B%0A%20%20%20%20%20%20%20%20%20%20%20%20popup_43e451d273f74dc8986d6f88b43aecc4.setContent%28html_a0215c331fe44e53b4fe3f7c49efa42c%29%3B%0A%20%20%20%20%20%20%20%20%0A%0A%20%20%20%20%20%20%20%20marker_aa5fa6b559c5404585bff0c858d413dd.bindPopup%28popup_43e451d273f74dc8986d6f88b43aecc4%29%0A%20%20%20%20%20%20%20%20%3B%0A%0A%20%20%20%20%20%20%20%20%0A%20%20%20%20%0A%20%20%20%20%0A%20%20%20%20%20%20%20%20%20%20%20%20var%20marker_a11845a69f614305aebc7fb4ea552021%20%3D%20L.marker%28%0A%20%20%20%20%20%20%20%20%20%20%20%20%20%20%20%20%5B33.442135%2C%20126.911013%5D%2C%0A%20%20%20%20%20%20%20%20%20%20%20%20%20%20%20%20%7B%7D%0A%20%20%20%20%20%20%20%20%20%20%20%20%29.addTo%28marker_cluster_83782287de1b4adea7b8897089fa4c15%29%3B%0A%20%20%20%20%20%20%20%20%0A%20%20%20%20%0A%20%20%20%20%20%20%20%20var%20popup_ae7361a37d9d4f9d9cfde02f13250d18%20%3D%20L.popup%28%7B%22maxWidth%22%3A%20%22100%25%22%7D%29%3B%0A%0A%20%20%20%20%20%20%20%20%0A%20%20%20%20%20%20%20%20%20%20%20%20var%20html_4fb7fa8e6d7e479fa25adc5801429111%20%3D%20%24%28%60%3Cdiv%20id%3D%22html_4fb7fa8e6d7e479fa25adc5801429111%22%20style%3D%22width%3A%20100.0%25%3B%20height%3A%20100.0%25%3B%22%3E%EC%84%B1%EC%82%B0%EC%9D%8D%3C/div%3E%60%29%5B0%5D%3B%0A%20%20%20%20%20%20%20%20%20%20%20%20popup_ae7361a37d9d4f9d9cfde02f13250d18.setContent%28html_4fb7fa8e6d7e479fa25adc5801429111%29%3B%0A%20%20%20%20%20%20%20%20%0A%0A%20%20%20%20%20%20%20%20marker_a11845a69f614305aebc7fb4ea552021.bindPopup%28popup_ae7361a37d9d4f9d9cfde02f13250d18%29%0A%20%20%20%20%20%20%20%20%3B%0A%0A%20%20%20%20%20%20%20%20%0A%20%20%20%20%0A%3C/script%3E onload=\"this.contentDocument.open();this.contentDocument.write(    decodeURIComponent(this.getAttribute('data-html')));this.contentDocument.close();\" allowfullscreen webkitallowfullscreen mozallowfullscreen></iframe></div></div>"
      ],
      "text/plain": [
       "<folium.folium.Map at 0x2140f8b2220>"
      ]
     },
     "execution_count": 14,
     "metadata": {},
     "output_type": "execute_result"
    }
   ],
   "source": [
    "import math\n",
    "# create map, 소비 데이터의 가맹점이 존재하는 지역을 지도에 표시하였다.\n",
    "jeju_map_solo = folium.Map(location=[33.3617,126.5292],tiles='cartodbpositron',zoom_start=10)\n",
    "\n",
    "# Add points to the map\n",
    "mc = MarkerCluster()\n",
    "for idx, row in town_pos.iterrows():\n",
    "    if not math.isnan(row['longitude']) and not math.isnan(row['latitude']):\n",
    "        mc.add_child(Marker([row['latitude'],row['longitude']],popup=row['address']))\n",
    "jeju_map_solo.add_child(mc)\n",
    "\n",
    "jeju_map_solo"
   ]
  },
  {
   "cell_type": "markdown",
   "id": "single-length",
   "metadata": {},
   "source": [
    "### 업종명\n",
    "중간에 불필요한 공백이 있는 data는 공백을 없애주도록 한다."
   ]
  },
  {
   "cell_type": "code",
   "execution_count": 16,
   "id": "neutral-metallic",
   "metadata": {},
   "outputs": [
    {
     "name": "stdout",
     "output_type": "stream",
     "text": [
      "업종의 갯수 : 14\n",
      " ['농축수산품' '스포츠레져용품' '골프 용품' '악세 사리' '의원' '안경' '정장(여성)' '기념품 점' '기타음료식품'\n",
      " '슈퍼 마켓' '신   발' '약국' '스넥' '귀 금 속']\n"
     ]
    }
   ],
   "source": [
    "upjong = data['업종명'].unique()\n",
    "print(f'업종의 갯수 : {len(upjong)}\\n',upjong)"
   ]
  },
  {
   "cell_type": "code",
   "execution_count": 18,
   "id": "three-regard",
   "metadata": {},
   "outputs": [
    {
     "data": {
      "text/plain": [
       "array(['농축수산품', '스포츠레져용품', '골프용품', '악세사리', '의원', '안경', '정장(여성)', '기념품점',\n",
       "       '기타음료식품', '슈퍼마켓', '신발', '약국', '스넥', '귀금속'], dtype=object)"
      ]
     },
     "execution_count": 18,
     "metadata": {},
     "output_type": "execute_result"
    }
   ],
   "source": [
    "# 불필요한 공백 제거\n",
    "data['업종명'] = [uj.replace(\" \",\"\") for uj in data['업종명']]\n",
    "upjong = data['업종명'].unique()\n",
    "upjong"
   ]
  },
  {
   "cell_type": "markdown",
   "id": "first-border",
   "metadata": {},
   "source": [
    "### 성별"
   ]
  },
  {
   "cell_type": "code",
   "execution_count": 19,
   "id": "pleased-importance",
   "metadata": {},
   "outputs": [
    {
     "name": "stdout",
     "output_type": "stream",
     "text": [
      "['여' '남']\n"
     ]
    }
   ],
   "source": [
    "sex = data['성별'].unique()\n",
    "print(sex)"
   ]
  },
  {
   "cell_type": "code",
   "execution_count": 20,
   "id": "constant-charlotte",
   "metadata": {},
   "outputs": [
    {
     "data": {
      "text/html": [
       "<div>\n",
       "<style scoped>\n",
       "    .dataframe tbody tr th:only-of-type {\n",
       "        vertical-align: middle;\n",
       "    }\n",
       "\n",
       "    .dataframe tbody tr th {\n",
       "        vertical-align: top;\n",
       "    }\n",
       "\n",
       "    .dataframe thead th {\n",
       "        text-align: right;\n",
       "    }\n",
       "</style>\n",
       "<table border=\"1\" class=\"dataframe\">\n",
       "  <thead>\n",
       "    <tr style=\"text-align: right;\">\n",
       "      <th></th>\n",
       "      <th>업종명</th>\n",
       "      <th>성별</th>\n",
       "      <th>카드이용금액</th>\n",
       "    </tr>\n",
       "  </thead>\n",
       "  <tbody>\n",
       "    <tr>\n",
       "      <th>0</th>\n",
       "      <td>골프용품</td>\n",
       "      <td>남</td>\n",
       "      <td>33892800</td>\n",
       "    </tr>\n",
       "    <tr>\n",
       "      <th>1</th>\n",
       "      <td>골프용품</td>\n",
       "      <td>여</td>\n",
       "      <td>3321000</td>\n",
       "    </tr>\n",
       "    <tr>\n",
       "      <th>2</th>\n",
       "      <td>귀금속</td>\n",
       "      <td>여</td>\n",
       "      <td>2180100</td>\n",
       "    </tr>\n",
       "    <tr>\n",
       "      <th>3</th>\n",
       "      <td>기념품점</td>\n",
       "      <td>남</td>\n",
       "      <td>3997426584</td>\n",
       "    </tr>\n",
       "    <tr>\n",
       "      <th>4</th>\n",
       "      <td>기념품점</td>\n",
       "      <td>여</td>\n",
       "      <td>3867428411</td>\n",
       "    </tr>\n",
       "    <tr>\n",
       "      <th>5</th>\n",
       "      <td>기타음료식품</td>\n",
       "      <td>남</td>\n",
       "      <td>694770536</td>\n",
       "    </tr>\n",
       "    <tr>\n",
       "      <th>6</th>\n",
       "      <td>기타음료식품</td>\n",
       "      <td>여</td>\n",
       "      <td>643329960</td>\n",
       "    </tr>\n",
       "    <tr>\n",
       "      <th>7</th>\n",
       "      <td>농축수산품</td>\n",
       "      <td>남</td>\n",
       "      <td>7064962946</td>\n",
       "    </tr>\n",
       "    <tr>\n",
       "      <th>8</th>\n",
       "      <td>농축수산품</td>\n",
       "      <td>여</td>\n",
       "      <td>6027597440</td>\n",
       "    </tr>\n",
       "    <tr>\n",
       "      <th>9</th>\n",
       "      <td>슈퍼마켓</td>\n",
       "      <td>남</td>\n",
       "      <td>6768028620</td>\n",
       "    </tr>\n",
       "    <tr>\n",
       "      <th>10</th>\n",
       "      <td>슈퍼마켓</td>\n",
       "      <td>여</td>\n",
       "      <td>4922541593</td>\n",
       "    </tr>\n",
       "    <tr>\n",
       "      <th>11</th>\n",
       "      <td>스넥</td>\n",
       "      <td>남</td>\n",
       "      <td>2828188943</td>\n",
       "    </tr>\n",
       "    <tr>\n",
       "      <th>12</th>\n",
       "      <td>스넥</td>\n",
       "      <td>여</td>\n",
       "      <td>2632974614</td>\n",
       "    </tr>\n",
       "    <tr>\n",
       "      <th>13</th>\n",
       "      <td>스포츠레져용품</td>\n",
       "      <td>남</td>\n",
       "      <td>2059669368</td>\n",
       "    </tr>\n",
       "    <tr>\n",
       "      <th>14</th>\n",
       "      <td>스포츠레져용품</td>\n",
       "      <td>여</td>\n",
       "      <td>1353768950</td>\n",
       "    </tr>\n",
       "    <tr>\n",
       "      <th>15</th>\n",
       "      <td>신발</td>\n",
       "      <td>남</td>\n",
       "      <td>20799200</td>\n",
       "    </tr>\n",
       "    <tr>\n",
       "      <th>16</th>\n",
       "      <td>신발</td>\n",
       "      <td>여</td>\n",
       "      <td>56436400</td>\n",
       "    </tr>\n",
       "    <tr>\n",
       "      <th>17</th>\n",
       "      <td>악세사리</td>\n",
       "      <td>남</td>\n",
       "      <td>102946200</td>\n",
       "    </tr>\n",
       "    <tr>\n",
       "      <th>18</th>\n",
       "      <td>악세사리</td>\n",
       "      <td>여</td>\n",
       "      <td>210203790</td>\n",
       "    </tr>\n",
       "    <tr>\n",
       "      <th>19</th>\n",
       "      <td>안경</td>\n",
       "      <td>남</td>\n",
       "      <td>200245560</td>\n",
       "    </tr>\n",
       "    <tr>\n",
       "      <th>20</th>\n",
       "      <td>안경</td>\n",
       "      <td>여</td>\n",
       "      <td>260501970</td>\n",
       "    </tr>\n",
       "    <tr>\n",
       "      <th>21</th>\n",
       "      <td>약국</td>\n",
       "      <td>남</td>\n",
       "      <td>776704399</td>\n",
       "    </tr>\n",
       "    <tr>\n",
       "      <th>22</th>\n",
       "      <td>약국</td>\n",
       "      <td>여</td>\n",
       "      <td>775945446</td>\n",
       "    </tr>\n",
       "    <tr>\n",
       "      <th>23</th>\n",
       "      <td>의원</td>\n",
       "      <td>남</td>\n",
       "      <td>626786105</td>\n",
       "    </tr>\n",
       "    <tr>\n",
       "      <th>24</th>\n",
       "      <td>의원</td>\n",
       "      <td>여</td>\n",
       "      <td>1019839779</td>\n",
       "    </tr>\n",
       "    <tr>\n",
       "      <th>25</th>\n",
       "      <td>정장(여성)</td>\n",
       "      <td>남</td>\n",
       "      <td>540488930</td>\n",
       "    </tr>\n",
       "    <tr>\n",
       "      <th>26</th>\n",
       "      <td>정장(여성)</td>\n",
       "      <td>여</td>\n",
       "      <td>1112201630</td>\n",
       "    </tr>\n",
       "  </tbody>\n",
       "</table>\n",
       "</div>"
      ],
      "text/plain": [
       "        업종명 성별      카드이용금액\n",
       "0      골프용품  남    33892800\n",
       "1      골프용품  여     3321000\n",
       "2       귀금속  여     2180100\n",
       "3      기념품점  남  3997426584\n",
       "4      기념품점  여  3867428411\n",
       "5    기타음료식품  남   694770536\n",
       "6    기타음료식품  여   643329960\n",
       "7     농축수산품  남  7064962946\n",
       "8     농축수산품  여  6027597440\n",
       "9      슈퍼마켓  남  6768028620\n",
       "10     슈퍼마켓  여  4922541593\n",
       "11       스넥  남  2828188943\n",
       "12       스넥  여  2632974614\n",
       "13  스포츠레져용품  남  2059669368\n",
       "14  스포츠레져용품  여  1353768950\n",
       "15       신발  남    20799200\n",
       "16       신발  여    56436400\n",
       "17     악세사리  남   102946200\n",
       "18     악세사리  여   210203790\n",
       "19       안경  남   200245560\n",
       "20       안경  여   260501970\n",
       "21       약국  남   776704399\n",
       "22       약국  여   775945446\n",
       "23       의원  남   626786105\n",
       "24       의원  여  1019839779\n",
       "25   정장(여성)  남   540488930\n",
       "26   정장(여성)  여  1112201630"
      ]
     },
     "metadata": {},
     "output_type": "display_data"
    },
    {
     "data": {
      "image/png": "[encoded data removed]",
      "text/plain": [
       "<Figure size 406x360 with 1 Axes>"
      ]
     },
     "metadata": {
      "needs_background": "light"
     },
     "output_type": "display_data"
    }
   ],
   "source": [
    "# 성별에 따른 각각의 업종 매출액\n",
    "card_usage_amount_by_sex = data.groupby(['업종명','성별'])['카드이용금액'].sum()\n",
    "display(card_usage_amount_by_sex.to_frame(name=\"카드이용금액\").reset_index())\n",
    "# sns.set(rc={'figure.figsize':(80,10)})\n",
    "\n",
    "g = sns.catplot(x='카드이용금액',y='업종명', hue='성별',\n",
    "               data=card_usage_amount_by_sex.to_frame(name=\"카드이용금액\").reset_index(),\n",
    "               orient='h', kind='bar')"
   ]
  },
  {
   "cell_type": "markdown",
   "id": "breathing-distance",
   "metadata": {},
   "source": [
    "### 연령대별"
   ]
  },
  {
   "cell_type": "code",
   "execution_count": 21,
   "id": "fifty-russia",
   "metadata": {},
   "outputs": [
    {
     "name": "stdout",
     "output_type": "stream",
     "text": [
      "['50대' '40대' '30대' '20대']\n"
     ]
    }
   ],
   "source": [
    "age_grp = data['연령대별'].unique()\n",
    "print(age_grp)"
   ]
  },
  {
   "cell_type": "markdown",
   "id": "posted-atlas",
   "metadata": {},
   "source": [
    "### 카드이용금액"
   ]
  },
  {
   "cell_type": "code",
   "execution_count": 22,
   "id": "controversial-loading",
   "metadata": {},
   "outputs": [
    {
     "data": {
      "text/plain": [
       "Index(['기준년월', '제주 대분류', '제주 중분류', '업종명', '성별', '연령대별', '카드이용금액', '카드이용건수',\n",
       "       '건당이용금액'],\n",
       "      dtype='object')"
      ]
     },
     "execution_count": 22,
     "metadata": {},
     "output_type": "execute_result"
    }
   ],
   "source": [
    "data.columns"
   ]
  },
  {
   "cell_type": "code",
   "execution_count": 23,
   "id": "incorrect-dispatch",
   "metadata": {},
   "outputs": [
    {
     "data": {
      "text/plain": [
       "min       36100\n",
       "max    64277700\n",
       "Name: 카드이용금액, dtype: int64"
      ]
     },
     "execution_count": 23,
     "metadata": {},
     "output_type": "execute_result"
    }
   ],
   "source": [
    "card_usage_amount = data['카드이용금액']\n",
    "card_usage_amount.agg(['min','max'])"
   ]
  },
  {
   "cell_type": "code",
   "execution_count": 39,
   "id": "joint-briefs",
   "metadata": {},
   "outputs": [
    {
     "data": {
      "text/plain": [
       "array(['농축수산품', '스포츠레져용품', '골프 용품', '악세 사리', '의원', '안경', '정장(여성)',\n",
       "       '기념품 점', '기타음료식품', '슈퍼 마켓', '신   발', '약국', '스넥', '귀 금 속'],\n",
       "      dtype=object)"
      ]
     },
     "execution_count": 39,
     "metadata": {},
     "output_type": "execute_result"
    }
   ],
   "source": [
    "upjong"
   ]
  },
  {
   "cell_type": "code",
   "execution_count": 36,
   "id": "coordinated-overhead",
   "metadata": {},
   "outputs": [
    {
     "data": {
      "text/plain": [
       "업종명   기준년월      \n",
       "골프용품  2014-09-01    2691000\n",
       "      2014-10-01    1870000\n",
       "      2014-11-01    5154000\n",
       "      2015-03-01     244000\n",
       "      2015-04-01     679000\n",
       "      2015-05-01    2622800\n",
       "      2015-06-01    1193000\n",
       "      2015-07-01     697000\n",
       "      2015-08-01    1229500\n",
       "      2015-09-01    2335000\n",
       "      2015-10-01    1380000\n",
       "      2015-11-01    1876000\n",
       "      2015-12-01     359000\n",
       "      2016-02-01     767500\n",
       "      2016-03-01    1244500\n",
       "      2016-04-01    4995500\n",
       "      2016-05-01    2009500\n",
       "      2016-06-01    1986500\n",
       "      2016-07-01    2400500\n",
       "      2016-08-01    1479500\n",
       "Name: 카드이용금액, dtype: int64"
      ]
     },
     "execution_count": 36,
     "metadata": {},
     "output_type": "execute_result"
    }
   ],
   "source": [
    "card_usage_amount_by_industry = data.groupby(['업종명','기준년월'])['카드이용금액'].sum()\n",
    "card_usage_amount_by_industry\n",
    "\n",
    "result = card_usage_amount_by_industry.loc[('골프용품',dates)]\n",
    "result"
   ]
  },
  {
   "cell_type": "code",
   "execution_count": 31,
   "id": "moral-olive",
   "metadata": {
    "tags": []
   },
   "outputs": [
    {
     "ename": "KeyError",
     "evalue": "'골프 용품'",
     "output_type": "error",
     "traceback": [
      "\u001b[1;31m---------------------------------------------------------------------------\u001b[0m",
      "\u001b[1;31mKeyError\u001b[0m                                  Traceback (most recent call last)",
      "\u001b[1;32mC:\\ProgramData\\Anaconda3\\envs\\data_analysis\\lib\\site-packages\\pandas\\core\\indexes\\base.py\u001b[0m in \u001b[0;36mget_loc\u001b[1;34m(self, key, method, tolerance)\u001b[0m\n\u001b[0;32m   3079\u001b[0m             \u001b[1;32mtry\u001b[0m\u001b[1;33m:\u001b[0m\u001b[1;33m\u001b[0m\u001b[1;33m\u001b[0m\u001b[0m\n\u001b[1;32m-> 3080\u001b[1;33m                 \u001b[1;32mreturn\u001b[0m \u001b[0mself\u001b[0m\u001b[1;33m.\u001b[0m\u001b[0m_engine\u001b[0m\u001b[1;33m.\u001b[0m\u001b[0mget_loc\u001b[0m\u001b[1;33m(\u001b[0m\u001b[0mcasted_key\u001b[0m\u001b[1;33m)\u001b[0m\u001b[1;33m\u001b[0m\u001b[1;33m\u001b[0m\u001b[0m\n\u001b[0m\u001b[0;32m   3081\u001b[0m             \u001b[1;32mexcept\u001b[0m \u001b[0mKeyError\u001b[0m \u001b[1;32mas\u001b[0m \u001b[0merr\u001b[0m\u001b[1;33m:\u001b[0m\u001b[1;33m\u001b[0m\u001b[1;33m\u001b[0m\u001b[0m\n",
      "\u001b[1;32mpandas\\_libs\\index.pyx\u001b[0m in \u001b[0;36mpandas._libs.index.IndexEngine.get_loc\u001b[1;34m()\u001b[0m\n",
      "\u001b[1;32mpandas\\_libs\\index.pyx\u001b[0m in \u001b[0;36mpandas._libs.index.IndexEngine.get_loc\u001b[1;34m()\u001b[0m\n",
      "\u001b[1;32mpandas\\_libs\\hashtable_class_helper.pxi\u001b[0m in \u001b[0;36mpandas._libs.hashtable.PyObjectHashTable.get_item\u001b[1;34m()\u001b[0m\n",
      "\u001b[1;32mpandas\\_libs\\hashtable_class_helper.pxi\u001b[0m in \u001b[0;36mpandas._libs.hashtable.PyObjectHashTable.get_item\u001b[1;34m()\u001b[0m\n",
      "\u001b[1;31mKeyError\u001b[0m: '골프 용품'",
      "\nThe above exception was the direct cause of the following exception:\n",
      "\u001b[1;31mKeyError\u001b[0m                                  Traceback (most recent call last)",
      "\u001b[1;32m<ipython-input-31-fcda38a83bfd>\u001b[0m in \u001b[0;36m<module>\u001b[1;34m\u001b[0m\n\u001b[0;32m      6\u001b[0m \u001b[1;31m# 업종중 특정날짜의 데이터가 없는 경우가 있다. 따라서 특정날짜의 data를 0으로 하여 추가한다.\u001b[0m\u001b[1;33m\u001b[0m\u001b[1;33m\u001b[0m\u001b[1;33m\u001b[0m\u001b[0m\n\u001b[0;32m      7\u001b[0m \u001b[1;32mfor\u001b[0m \u001b[0midx\u001b[0m\u001b[1;33m,\u001b[0m \u001b[0mindustry\u001b[0m \u001b[1;32min\u001b[0m \u001b[0menumerate\u001b[0m\u001b[1;33m(\u001b[0m\u001b[0mupjong\u001b[0m\u001b[1;33m)\u001b[0m\u001b[1;33m:\u001b[0m\u001b[1;33m\u001b[0m\u001b[1;33m\u001b[0m\u001b[0m\n\u001b[1;32m----> 8\u001b[1;33m     \u001b[0mresult\u001b[0m \u001b[1;33m=\u001b[0m \u001b[0mcard_usage_amount_by_industry\u001b[0m\u001b[1;33m.\u001b[0m\u001b[0mloc\u001b[0m\u001b[1;33m[\u001b[0m\u001b[1;33m(\u001b[0m\u001b[0mindustry\u001b[0m\u001b[1;33m,\u001b[0m\u001b[0mdates\u001b[0m\u001b[1;33m)\u001b[0m\u001b[1;33m]\u001b[0m\u001b[1;33m\u001b[0m\u001b[1;33m\u001b[0m\u001b[0m\n\u001b[0m\u001b[0;32m      9\u001b[0m     \u001b[0mdate_by_industry\u001b[0m \u001b[1;33m=\u001b[0m \u001b[0mresult\u001b[0m\u001b[1;33m.\u001b[0m\u001b[0mindex\u001b[0m\u001b[1;33m.\u001b[0m\u001b[0mget_level_values\u001b[0m\u001b[1;33m(\u001b[0m\u001b[1;34m'기준년월'\u001b[0m\u001b[1;33m)\u001b[0m\u001b[1;33m\u001b[0m\u001b[1;33m\u001b[0m\u001b[0m\n\u001b[0;32m     10\u001b[0m     \u001b[1;32mfor\u001b[0m \u001b[0mdate\u001b[0m \u001b[1;32min\u001b[0m \u001b[0mdates\u001b[0m\u001b[1;33m:\u001b[0m\u001b[1;33m\u001b[0m\u001b[1;33m\u001b[0m\u001b[0m\n",
      "\u001b[1;32mC:\\ProgramData\\Anaconda3\\envs\\data_analysis\\lib\\site-packages\\pandas\\core\\indexing.py\u001b[0m in \u001b[0;36m__getitem__\u001b[1;34m(self, key)\u001b[0m\n\u001b[0;32m    887\u001b[0m                     \u001b[1;31m# AttributeError for IntervalTree get_value\u001b[0m\u001b[1;33m\u001b[0m\u001b[1;33m\u001b[0m\u001b[1;33m\u001b[0m\u001b[0m\n\u001b[0;32m    888\u001b[0m                     \u001b[1;32mreturn\u001b[0m \u001b[0mself\u001b[0m\u001b[1;33m.\u001b[0m\u001b[0mobj\u001b[0m\u001b[1;33m.\u001b[0m\u001b[0m_get_value\u001b[0m\u001b[1;33m(\u001b[0m\u001b[1;33m*\u001b[0m\u001b[0mkey\u001b[0m\u001b[1;33m,\u001b[0m \u001b[0mtakeable\u001b[0m\u001b[1;33m=\u001b[0m\u001b[0mself\u001b[0m\u001b[1;33m.\u001b[0m\u001b[0m_takeable\u001b[0m\u001b[1;33m)\u001b[0m\u001b[1;33m\u001b[0m\u001b[1;33m\u001b[0m\u001b[0m\n\u001b[1;32m--> 889\u001b[1;33m             \u001b[1;32mreturn\u001b[0m \u001b[0mself\u001b[0m\u001b[1;33m.\u001b[0m\u001b[0m_getitem_tuple\u001b[0m\u001b[1;33m(\u001b[0m\u001b[0mkey\u001b[0m\u001b[1;33m)\u001b[0m\u001b[1;33m\u001b[0m\u001b[1;33m\u001b[0m\u001b[0m\n\u001b[0m\u001b[0;32m    890\u001b[0m         \u001b[1;32melse\u001b[0m\u001b[1;33m:\u001b[0m\u001b[1;33m\u001b[0m\u001b[1;33m\u001b[0m\u001b[0m\n\u001b[0;32m    891\u001b[0m             \u001b[1;31m# we by definition only have the 0th axis\u001b[0m\u001b[1;33m\u001b[0m\u001b[1;33m\u001b[0m\u001b[1;33m\u001b[0m\u001b[0m\n",
      "\u001b[1;32mC:\\ProgramData\\Anaconda3\\envs\\data_analysis\\lib\\site-packages\\pandas\\core\\indexing.py\u001b[0m in \u001b[0;36m_getitem_tuple\u001b[1;34m(self, tup)\u001b[0m\n\u001b[0;32m   1058\u001b[0m     \u001b[1;32mdef\u001b[0m \u001b[0m_getitem_tuple\u001b[0m\u001b[1;33m(\u001b[0m\u001b[0mself\u001b[0m\u001b[1;33m,\u001b[0m \u001b[0mtup\u001b[0m\u001b[1;33m:\u001b[0m \u001b[0mTuple\u001b[0m\u001b[1;33m)\u001b[0m\u001b[1;33m:\u001b[0m\u001b[1;33m\u001b[0m\u001b[1;33m\u001b[0m\u001b[0m\n\u001b[0;32m   1059\u001b[0m         \u001b[1;32mwith\u001b[0m \u001b[0msuppress\u001b[0m\u001b[1;33m(\u001b[0m\u001b[0mIndexingError\u001b[0m\u001b[1;33m)\u001b[0m\u001b[1;33m:\u001b[0m\u001b[1;33m\u001b[0m\u001b[1;33m\u001b[0m\u001b[0m\n\u001b[1;32m-> 1060\u001b[1;33m             \u001b[1;32mreturn\u001b[0m \u001b[0mself\u001b[0m\u001b[1;33m.\u001b[0m\u001b[0m_getitem_lowerdim\u001b[0m\u001b[1;33m(\u001b[0m\u001b[0mtup\u001b[0m\u001b[1;33m)\u001b[0m\u001b[1;33m\u001b[0m\u001b[1;33m\u001b[0m\u001b[0m\n\u001b[0m\u001b[0;32m   1061\u001b[0m \u001b[1;33m\u001b[0m\u001b[0m\n\u001b[0;32m   1062\u001b[0m         \u001b[1;31m# no multi-index, so validate all of the indexers\u001b[0m\u001b[1;33m\u001b[0m\u001b[1;33m\u001b[0m\u001b[1;33m\u001b[0m\u001b[0m\n",
      "\u001b[1;32mC:\\ProgramData\\Anaconda3\\envs\\data_analysis\\lib\\site-packages\\pandas\\core\\indexing.py\u001b[0m in \u001b[0;36m_getitem_lowerdim\u001b[1;34m(self, tup)\u001b[0m\n\u001b[0;32m    789\u001b[0m         \u001b[1;31m# we may have a nested tuples indexer here\u001b[0m\u001b[1;33m\u001b[0m\u001b[1;33m\u001b[0m\u001b[1;33m\u001b[0m\u001b[0m\n\u001b[0;32m    790\u001b[0m         \u001b[1;32mif\u001b[0m \u001b[0mself\u001b[0m\u001b[1;33m.\u001b[0m\u001b[0m_is_nested_tuple_indexer\u001b[0m\u001b[1;33m(\u001b[0m\u001b[0mtup\u001b[0m\u001b[1;33m)\u001b[0m\u001b[1;33m:\u001b[0m\u001b[1;33m\u001b[0m\u001b[1;33m\u001b[0m\u001b[0m\n\u001b[1;32m--> 791\u001b[1;33m             \u001b[1;32mreturn\u001b[0m \u001b[0mself\u001b[0m\u001b[1;33m.\u001b[0m\u001b[0m_getitem_nested_tuple\u001b[0m\u001b[1;33m(\u001b[0m\u001b[0mtup\u001b[0m\u001b[1;33m)\u001b[0m\u001b[1;33m\u001b[0m\u001b[1;33m\u001b[0m\u001b[0m\n\u001b[0m\u001b[0;32m    792\u001b[0m \u001b[1;33m\u001b[0m\u001b[0m\n\u001b[0;32m    793\u001b[0m         \u001b[1;31m# we maybe be using a tuple to represent multiple dimensions here\u001b[0m\u001b[1;33m\u001b[0m\u001b[1;33m\u001b[0m\u001b[1;33m\u001b[0m\u001b[0m\n",
      "\u001b[1;32mC:\\ProgramData\\Anaconda3\\envs\\data_analysis\\lib\\site-packages\\pandas\\core\\indexing.py\u001b[0m in \u001b[0;36m_getitem_nested_tuple\u001b[1;34m(self, tup)\u001b[0m\n\u001b[0;32m    850\u001b[0m             \u001b[1;31m# selectors\u001b[0m\u001b[1;33m\u001b[0m\u001b[1;33m\u001b[0m\u001b[1;33m\u001b[0m\u001b[0m\n\u001b[0;32m    851\u001b[0m             \u001b[0maxis\u001b[0m \u001b[1;33m=\u001b[0m \u001b[0mself\u001b[0m\u001b[1;33m.\u001b[0m\u001b[0maxis\u001b[0m \u001b[1;32mor\u001b[0m \u001b[1;36m0\u001b[0m\u001b[1;33m\u001b[0m\u001b[1;33m\u001b[0m\u001b[0m\n\u001b[1;32m--> 852\u001b[1;33m             \u001b[1;32mreturn\u001b[0m \u001b[0mself\u001b[0m\u001b[1;33m.\u001b[0m\u001b[0m_getitem_axis\u001b[0m\u001b[1;33m(\u001b[0m\u001b[0mtup\u001b[0m\u001b[1;33m,\u001b[0m \u001b[0maxis\u001b[0m\u001b[1;33m=\u001b[0m\u001b[0maxis\u001b[0m\u001b[1;33m)\u001b[0m\u001b[1;33m\u001b[0m\u001b[1;33m\u001b[0m\u001b[0m\n\u001b[0m\u001b[0;32m    853\u001b[0m \u001b[1;33m\u001b[0m\u001b[0m\n\u001b[0;32m    854\u001b[0m         \u001b[1;31m# handle the multi-axis by taking sections and reducing\u001b[0m\u001b[1;33m\u001b[0m\u001b[1;33m\u001b[0m\u001b[1;33m\u001b[0m\u001b[0m\n",
      "\u001b[1;32mC:\\ProgramData\\Anaconda3\\envs\\data_analysis\\lib\\site-packages\\pandas\\core\\indexing.py\u001b[0m in \u001b[0;36m_getitem_axis\u001b[1;34m(self, key, axis)\u001b[0m\n\u001b[0;32m   1115\u001b[0m             \u001b[1;31m# nested tuple slicing\u001b[0m\u001b[1;33m\u001b[0m\u001b[1;33m\u001b[0m\u001b[1;33m\u001b[0m\u001b[0m\n\u001b[0;32m   1116\u001b[0m             \u001b[1;32mif\u001b[0m \u001b[0mis_nested_tuple\u001b[0m\u001b[1;33m(\u001b[0m\u001b[0mkey\u001b[0m\u001b[1;33m,\u001b[0m \u001b[0mlabels\u001b[0m\u001b[1;33m)\u001b[0m\u001b[1;33m:\u001b[0m\u001b[1;33m\u001b[0m\u001b[1;33m\u001b[0m\u001b[0m\n\u001b[1;32m-> 1117\u001b[1;33m                 \u001b[0mlocs\u001b[0m \u001b[1;33m=\u001b[0m \u001b[0mlabels\u001b[0m\u001b[1;33m.\u001b[0m\u001b[0mget_locs\u001b[0m\u001b[1;33m(\u001b[0m\u001b[0mkey\u001b[0m\u001b[1;33m)\u001b[0m\u001b[1;33m\u001b[0m\u001b[1;33m\u001b[0m\u001b[0m\n\u001b[0m\u001b[0;32m   1118\u001b[0m                 \u001b[0mindexer\u001b[0m \u001b[1;33m=\u001b[0m \u001b[1;33m[\u001b[0m\u001b[0mslice\u001b[0m\u001b[1;33m(\u001b[0m\u001b[1;32mNone\u001b[0m\u001b[1;33m)\u001b[0m\u001b[1;33m]\u001b[0m \u001b[1;33m*\u001b[0m \u001b[0mself\u001b[0m\u001b[1;33m.\u001b[0m\u001b[0mndim\u001b[0m\u001b[1;33m\u001b[0m\u001b[1;33m\u001b[0m\u001b[0m\n\u001b[0;32m   1119\u001b[0m                 \u001b[0mindexer\u001b[0m\u001b[1;33m[\u001b[0m\u001b[0maxis\u001b[0m\u001b[1;33m]\u001b[0m \u001b[1;33m=\u001b[0m \u001b[0mlocs\u001b[0m\u001b[1;33m\u001b[0m\u001b[1;33m\u001b[0m\u001b[0m\n",
      "\u001b[1;32mC:\\ProgramData\\Anaconda3\\envs\\data_analysis\\lib\\site-packages\\pandas\\core\\indexes\\multi.py\u001b[0m in \u001b[0;36mget_locs\u001b[1;34m(self, seq)\u001b[0m\n\u001b[0;32m   3303\u001b[0m                 indexer = _update_indexer(\n\u001b[0;32m   3304\u001b[0m                     _convert_to_indexer(\n\u001b[1;32m-> 3305\u001b[1;33m                         \u001b[0mself\u001b[0m\u001b[1;33m.\u001b[0m\u001b[0mget_loc_level\u001b[0m\u001b[1;33m(\u001b[0m\u001b[0mk\u001b[0m\u001b[1;33m,\u001b[0m \u001b[0mlevel\u001b[0m\u001b[1;33m=\u001b[0m\u001b[0mi\u001b[0m\u001b[1;33m,\u001b[0m \u001b[0mdrop_level\u001b[0m\u001b[1;33m=\u001b[0m\u001b[1;32mFalse\u001b[0m\u001b[1;33m)\u001b[0m\u001b[1;33m[\u001b[0m\u001b[1;36m0\u001b[0m\u001b[1;33m]\u001b[0m\u001b[1;33m\u001b[0m\u001b[1;33m\u001b[0m\u001b[0m\n\u001b[0m\u001b[0;32m   3306\u001b[0m                     ),\n\u001b[0;32m   3307\u001b[0m                     \u001b[0mindexer\u001b[0m\u001b[1;33m=\u001b[0m\u001b[0mindexer\u001b[0m\u001b[1;33m,\u001b[0m\u001b[1;33m\u001b[0m\u001b[1;33m\u001b[0m\u001b[0m\n",
      "\u001b[1;32mC:\\ProgramData\\Anaconda3\\envs\\data_analysis\\lib\\site-packages\\pandas\\core\\indexes\\multi.py\u001b[0m in \u001b[0;36mget_loc_level\u001b[1;34m(self, key, level, drop_level)\u001b[0m\n\u001b[0;32m   2963\u001b[0m         \u001b[1;32melse\u001b[0m\u001b[1;33m:\u001b[0m\u001b[1;33m\u001b[0m\u001b[1;33m\u001b[0m\u001b[0m\n\u001b[0;32m   2964\u001b[0m             \u001b[0mlevel\u001b[0m \u001b[1;33m=\u001b[0m \u001b[1;33m[\u001b[0m\u001b[0mself\u001b[0m\u001b[1;33m.\u001b[0m\u001b[0m_get_level_number\u001b[0m\u001b[1;33m(\u001b[0m\u001b[0mlev\u001b[0m\u001b[1;33m)\u001b[0m \u001b[1;32mfor\u001b[0m \u001b[0mlev\u001b[0m \u001b[1;32min\u001b[0m \u001b[0mlevel\u001b[0m\u001b[1;33m]\u001b[0m\u001b[1;33m\u001b[0m\u001b[1;33m\u001b[0m\u001b[0m\n\u001b[1;32m-> 2965\u001b[1;33m         \u001b[1;32mreturn\u001b[0m \u001b[0mself\u001b[0m\u001b[1;33m.\u001b[0m\u001b[0m_get_loc_level\u001b[0m\u001b[1;33m(\u001b[0m\u001b[0mkey\u001b[0m\u001b[1;33m,\u001b[0m \u001b[0mlevel\u001b[0m\u001b[1;33m=\u001b[0m\u001b[0mlevel\u001b[0m\u001b[1;33m,\u001b[0m \u001b[0mdrop_level\u001b[0m\u001b[1;33m=\u001b[0m\u001b[0mdrop_level\u001b[0m\u001b[1;33m)\u001b[0m\u001b[1;33m\u001b[0m\u001b[1;33m\u001b[0m\u001b[0m\n\u001b[0m\u001b[0;32m   2966\u001b[0m \u001b[1;33m\u001b[0m\u001b[0m\n\u001b[0;32m   2967\u001b[0m     def _get_loc_level(\n",
      "\u001b[1;32mC:\\ProgramData\\Anaconda3\\envs\\data_analysis\\lib\\site-packages\\pandas\\core\\indexes\\multi.py\u001b[0m in \u001b[0;36m_get_loc_level\u001b[1;34m(self, key, level, drop_level)\u001b[0m\n\u001b[0;32m   3066\u001b[0m                 \u001b[1;32mreturn\u001b[0m \u001b[0mindexer\u001b[0m\u001b[1;33m,\u001b[0m \u001b[0mmaybe_mi_droplevels\u001b[0m\u001b[1;33m(\u001b[0m\u001b[0mindexer\u001b[0m\u001b[1;33m,\u001b[0m \u001b[0milevels\u001b[0m\u001b[1;33m,\u001b[0m \u001b[0mdrop_level\u001b[0m\u001b[1;33m)\u001b[0m\u001b[1;33m\u001b[0m\u001b[1;33m\u001b[0m\u001b[0m\n\u001b[0;32m   3067\u001b[0m         \u001b[1;32melse\u001b[0m\u001b[1;33m:\u001b[0m\u001b[1;33m\u001b[0m\u001b[1;33m\u001b[0m\u001b[0m\n\u001b[1;32m-> 3068\u001b[1;33m             \u001b[0mindexer\u001b[0m \u001b[1;33m=\u001b[0m \u001b[0mself\u001b[0m\u001b[1;33m.\u001b[0m\u001b[0m_get_level_indexer\u001b[0m\u001b[1;33m(\u001b[0m\u001b[0mkey\u001b[0m\u001b[1;33m,\u001b[0m \u001b[0mlevel\u001b[0m\u001b[1;33m=\u001b[0m\u001b[0mlevel\u001b[0m\u001b[1;33m)\u001b[0m\u001b[1;33m\u001b[0m\u001b[1;33m\u001b[0m\u001b[0m\n\u001b[0m\u001b[0;32m   3069\u001b[0m             \u001b[1;32mreturn\u001b[0m \u001b[0mindexer\u001b[0m\u001b[1;33m,\u001b[0m \u001b[0mmaybe_mi_droplevels\u001b[0m\u001b[1;33m(\u001b[0m\u001b[0mindexer\u001b[0m\u001b[1;33m,\u001b[0m \u001b[1;33m[\u001b[0m\u001b[0mlevel\u001b[0m\u001b[1;33m]\u001b[0m\u001b[1;33m,\u001b[0m \u001b[0mdrop_level\u001b[0m\u001b[1;33m)\u001b[0m\u001b[1;33m\u001b[0m\u001b[1;33m\u001b[0m\u001b[0m\n\u001b[0;32m   3070\u001b[0m \u001b[1;33m\u001b[0m\u001b[0m\n",
      "\u001b[1;32mC:\\ProgramData\\Anaconda3\\envs\\data_analysis\\lib\\site-packages\\pandas\\core\\indexes\\multi.py\u001b[0m in \u001b[0;36m_get_level_indexer\u001b[1;34m(self, key, level, indexer)\u001b[0m\n\u001b[0;32m   3156\u001b[0m         \u001b[1;32melse\u001b[0m\u001b[1;33m:\u001b[0m\u001b[1;33m\u001b[0m\u001b[1;33m\u001b[0m\u001b[0m\n\u001b[0;32m   3157\u001b[0m \u001b[1;33m\u001b[0m\u001b[0m\n\u001b[1;32m-> 3158\u001b[1;33m             \u001b[0midx\u001b[0m \u001b[1;33m=\u001b[0m \u001b[0mself\u001b[0m\u001b[1;33m.\u001b[0m\u001b[0m_get_loc_single_level_index\u001b[0m\u001b[1;33m(\u001b[0m\u001b[0mlevel_index\u001b[0m\u001b[1;33m,\u001b[0m \u001b[0mkey\u001b[0m\u001b[1;33m)\u001b[0m\u001b[1;33m\u001b[0m\u001b[1;33m\u001b[0m\u001b[0m\n\u001b[0m\u001b[0;32m   3159\u001b[0m \u001b[1;33m\u001b[0m\u001b[0m\n\u001b[0;32m   3160\u001b[0m             \u001b[1;32mif\u001b[0m \u001b[0mlevel\u001b[0m \u001b[1;33m>\u001b[0m \u001b[1;36m0\u001b[0m \u001b[1;32mor\u001b[0m \u001b[0mself\u001b[0m\u001b[1;33m.\u001b[0m\u001b[0mlexsort_depth\u001b[0m \u001b[1;33m==\u001b[0m \u001b[1;36m0\u001b[0m\u001b[1;33m:\u001b[0m\u001b[1;33m\u001b[0m\u001b[1;33m\u001b[0m\u001b[0m\n",
      "\u001b[1;32mC:\\ProgramData\\Anaconda3\\envs\\data_analysis\\lib\\site-packages\\pandas\\core\\indexes\\multi.py\u001b[0m in \u001b[0;36m_get_loc_single_level_index\u001b[1;34m(self, level_index, key)\u001b[0m\n\u001b[0;32m   2807\u001b[0m             \u001b[1;32mreturn\u001b[0m \u001b[1;33m-\u001b[0m\u001b[1;36m1\u001b[0m\u001b[1;33m\u001b[0m\u001b[1;33m\u001b[0m\u001b[0m\n\u001b[0;32m   2808\u001b[0m         \u001b[1;32melse\u001b[0m\u001b[1;33m:\u001b[0m\u001b[1;33m\u001b[0m\u001b[1;33m\u001b[0m\u001b[0m\n\u001b[1;32m-> 2809\u001b[1;33m             \u001b[1;32mreturn\u001b[0m \u001b[0mlevel_index\u001b[0m\u001b[1;33m.\u001b[0m\u001b[0mget_loc\u001b[0m\u001b[1;33m(\u001b[0m\u001b[0mkey\u001b[0m\u001b[1;33m)\u001b[0m\u001b[1;33m\u001b[0m\u001b[1;33m\u001b[0m\u001b[0m\n\u001b[0m\u001b[0;32m   2810\u001b[0m \u001b[1;33m\u001b[0m\u001b[0m\n\u001b[0;32m   2811\u001b[0m     \u001b[1;32mdef\u001b[0m \u001b[0mget_loc\u001b[0m\u001b[1;33m(\u001b[0m\u001b[0mself\u001b[0m\u001b[1;33m,\u001b[0m \u001b[0mkey\u001b[0m\u001b[1;33m,\u001b[0m \u001b[0mmethod\u001b[0m\u001b[1;33m=\u001b[0m\u001b[1;32mNone\u001b[0m\u001b[1;33m)\u001b[0m\u001b[1;33m:\u001b[0m\u001b[1;33m\u001b[0m\u001b[1;33m\u001b[0m\u001b[0m\n",
      "\u001b[1;32mC:\\ProgramData\\Anaconda3\\envs\\data_analysis\\lib\\site-packages\\pandas\\core\\indexes\\base.py\u001b[0m in \u001b[0;36mget_loc\u001b[1;34m(self, key, method, tolerance)\u001b[0m\n\u001b[0;32m   3080\u001b[0m                 \u001b[1;32mreturn\u001b[0m \u001b[0mself\u001b[0m\u001b[1;33m.\u001b[0m\u001b[0m_engine\u001b[0m\u001b[1;33m.\u001b[0m\u001b[0mget_loc\u001b[0m\u001b[1;33m(\u001b[0m\u001b[0mcasted_key\u001b[0m\u001b[1;33m)\u001b[0m\u001b[1;33m\u001b[0m\u001b[1;33m\u001b[0m\u001b[0m\n\u001b[0;32m   3081\u001b[0m             \u001b[1;32mexcept\u001b[0m \u001b[0mKeyError\u001b[0m \u001b[1;32mas\u001b[0m \u001b[0merr\u001b[0m\u001b[1;33m:\u001b[0m\u001b[1;33m\u001b[0m\u001b[1;33m\u001b[0m\u001b[0m\n\u001b[1;32m-> 3082\u001b[1;33m                 \u001b[1;32mraise\u001b[0m \u001b[0mKeyError\u001b[0m\u001b[1;33m(\u001b[0m\u001b[0mkey\u001b[0m\u001b[1;33m)\u001b[0m \u001b[1;32mfrom\u001b[0m \u001b[0merr\u001b[0m\u001b[1;33m\u001b[0m\u001b[1;33m\u001b[0m\u001b[0m\n\u001b[0m\u001b[0;32m   3083\u001b[0m \u001b[1;33m\u001b[0m\u001b[0m\n\u001b[0;32m   3084\u001b[0m         \u001b[1;32mif\u001b[0m \u001b[0mtolerance\u001b[0m \u001b[1;32mis\u001b[0m \u001b[1;32mnot\u001b[0m \u001b[1;32mNone\u001b[0m\u001b[1;33m:\u001b[0m\u001b[1;33m\u001b[0m\u001b[1;33m\u001b[0m\u001b[0m\n",
      "\u001b[1;31mKeyError\u001b[0m: '골프 용품'"
     ]
    },
    {
     "data": {
      "image/png": "[encoded data removed]",
      "text/plain": [
       "<Figure size 1080x4320 with 14 Axes>"
      ]
     },
     "metadata": {
      "needs_background": "light"
     },
     "output_type": "display_data"
    }
   ],
   "source": [
    "# 시간에 따른 업종별 카드이용금액\n",
    "card_usage_amount_by_industry = data.groupby(['업종명','기준년월'])['카드이용금액'].sum()\n",
    "dates = data['기준년월'].unique()\n",
    "fig, axes = plt.subplots(nrows=len(upjong),figsize=(15,60),constrained_layout=True)\n",
    "\n",
    "# 업종중 특정날짜의 데이터가 없는 경우가 있다. 따라서 특정날짜의 data를 0으로 하여 추가한다.\n",
    "for idx, industry in enumerate(upjong):\n",
    "    result = card_usage_amount_by_industry.loc[(industry,dates)]\n",
    "    date_by_industry = result.index.get_level_values('기준년월')\n",
    "    for date in dates:\n",
    "        if date not in date_by_industry:\n",
    "            result[(industry,date)]=0          \n",
    "           \n",
    "    axes[idx].plot(dates,result,color='b',marker='.')\n",
    "    axes[idx].set_xlabel('Date')\n",
    "    axes[idx].set_ylabel('Amount')\n",
    "    axes[idx].set_title(industry)\n",
    "\n",
    "plt.suptitle('Card usage amount by industry')"
   ]
  },
  {
   "cell_type": "code",
   "execution_count": null,
   "id": "solved-lawsuit",
   "metadata": {},
   "outputs": [],
   "source": [
    "# 시간에 따른 업종별 카드이용금액\n",
    "card_usage_amount_by_industry = data.groupby(['업종명','기준년월'])['카드이용금액'].sum()\n",
    "dates = data['기준년월'].unique()\n",
    "fig, axes = plt.subplots(nrows=len(upjong),figsize=(15,60),constrained_layout=True)\n",
    "\n",
    "# 업종중 특정날짜의 데이터가 없는 경우가 있다. 따라서 특정날짜의 data를 0으로 하여 추가한다.\n",
    "for idx, industry in enumerate(upjong):\n",
    "    result = card_usage_amount_by_industry.loc[(industry,dates)]\n",
    "    date_by_industry = result.index.get_level_values('기준년월')\n",
    "    for date in dates:\n",
    "        if date not in date_by_industry:\n",
    "            result[(industry,date)]=0          \n",
    "           \n",
    "    axes[idx].plot(dates,result,color='b',marker='.')\n",
    "    axes[idx].set_xlabel('Date')\n",
    "    axes[idx].set_ylabel('Amount')\n",
    "    axes[idx].set_title(industry,fontproperties=fontprop)\n",
    "\n",
    "plt.suptitle('Card usage amount by industry')"
   ]
  },
  {
   "cell_type": "code",
   "execution_count": null,
   "id": "going-lodging",
   "metadata": {},
   "outputs": [],
   "source": [
    "# 시간에 따른 업종별 카드이용건수\n",
    "number_of_card_usage_by_industry = data.groupby(['업종명','기준년월'])['카드이용건수'].sum()\n",
    "dates = data['기준년월'].unique()\n",
    "fig, axes = plt.subplots(nrows=len(upjong),figsize=(15,60),constrained_layout=True)\n",
    "\n",
    "# 업종중 특정날짜의 데이터가 없는 경우가 있다. 따라서 특정날짜의 data를 0으로 하여 추가한다.\n",
    "for idx, industry in enumerate(upjong):\n",
    "    result = number_of_card_usage_by_industry.loc[(industry,dates)]\n",
    "    date_by_industry = result.index.get_level_values('기준년월')\n",
    "    for date in dates:\n",
    "        if date not in date_by_industry:\n",
    "            result[(industry,date)]=0          \n",
    "           \n",
    "    axes[idx].plot(dates,result,color='b',marker='.')\n",
    "    axes[idx].set_xlabel('Date')\n",
    "    axes[idx].set_ylabel('Amount')\n",
    "    axes[idx].set_title(industry,fontproperties=fontprop)\n",
    "\n",
    "plt.suptitle('Number of card usage by industry')"
   ]
  },
  {
   "cell_type": "code",
   "execution_count": null,
   "id": "satisfied-reminder",
   "metadata": {},
   "outputs": [],
   "source": [
    "# 지역별로 소비된 업종 분포(카드사용금액 기준)\n",
    "group_by_town_and_industry = data.groupby(['제주 중분류','업종명']).sum()\n",
    "group_by_town_and_industry_df = group_by_town_and_industry.reset_index()\n",
    "\n",
    "fig, axes = plt.subplots(nrows=len(town_in_jejudo),figsize=(15,60),constrained_layout=True)\n",
    "\n",
    "for idx, town in enumerate(town_in_jejudo):\n",
    "    sns.barplot(ax=axes[idx],x='카드이용금액',y='업종명',data=card_usage_amount_by_town_df[card_usage_amount_by_town_df['제주 중분류']==town])\n",
    "    axes[idx].set_title(town)\n",
    "\n",
    "plt.suptitle('Card usage amount by town')"
   ]
  },
  {
   "cell_type": "code",
   "execution_count": null,
   "id": "retired-columbia",
   "metadata": {},
   "outputs": [],
   "source": [
    "# 지역별로 소비된 업종 분포(카드이용건수 기준)\n",
    "fig, axes = plt.subplots(nrows=len(town_in_jejudo),figsize=(15,60),constrained_layout=True)\n",
    "\n",
    "for idx, town in enumerate(town_in_jejudo):\n",
    "    sns.barplot(ax=axes[idx],x='카드이용건수',y='업종명',data=group_by_town_and_industry_df[group_by_town_and_industry_df['제주 중분류']==town])\n",
    "    axes[idx].set_title(town)\n",
    "\n",
    "plt.suptitle('Number of card usage by town')"
   ]
  },
  {
   "cell_type": "code",
   "execution_count": null,
   "id": "composed-snapshot",
   "metadata": {},
   "outputs": [],
   "source": [
    "# 지역별로 소비된 업종 분포(사용 건수별)\n",
    "number_of_card_usage_by_town = data.groupby(['제주 중분류','업종명'])['카드이용건수'].sum()\n",
    "number_of_card_usage_by_town_df = number_of_card_usage_by_town.to_frame('카드이용건수').reset_index()\n",
    "fig, axes = plt.subplots(nrows=len(town_in_jejudo),figsize=(15,60),constrained_layout=True)\n",
    "\n",
    "for idx, town in enumerate(town_in_jejudo):\n",
    "    sns.barplot(ax=axes[idx],x='카드이용건수',y='업종명',data=number_of_card_usage_by_town_df[number_of_card_usage_by_town_df['제주 중분류']==town])\n",
    "    axes[idx].set_title(town)\n",
    "\n",
    "plt.suptitle('Number of card usage by town')"
   ]
  },
  {
   "cell_type": "code",
   "execution_count": null,
   "id": "agricultural-chambers",
   "metadata": {},
   "outputs": [],
   "source": [
    "# 지역별로 소비된 연령대\n",
    "age_grp_by_town = data.groupby(['제주 중분류','연령대별']).size()\n",
    "age_grp_by_town_df = age_grp_by_town.to_frame('인원수').reset_index()\n",
    "fig, axes = plt.subplots(nrows=len(town_in_jejudo),figsize=(15,30),sharex=True,constrained_layout=True)\n",
    "\n",
    "for idx, town in enumerate(town_in_jejudo):\n",
    "    sns.barplot(ax=axes[idx],x='인원수',y='연령대별',data=age_grp_by_town_df[age_grp_by_town_df['제주 중분류']==town])\n",
    "    axes[idx].set_title(town)\n",
    "\n",
    "plt.suptitle('Age group by town')"
   ]
  },
  {
   "cell_type": "code",
   "execution_count": null,
   "id": "horizontal-lexington",
   "metadata": {},
   "outputs": [],
   "source": [
    "# 지역별 카드 이용 금액\n",
    "card_usage_amount_town = data.groupby('제주 중분류')['카드이용금액'].sum()\n",
    "card_usage_amount_town_df = card_usage_amount_town.to_frame('카드이용금액').reset_index()\n",
    "plt.figure(figsize=(15,7))\n",
    "ax= sns.barplot(x='카드이용금액',y='제주 중분류',data=card_usage_amount_town_df)\n",
    "ax.set_title('지역별 카드 이용 금액')\n",
    "\n",
    "# 지역별 카드 이용 건수\n",
    "number_of_card_usage_by_town = data.groupby('제주 중분류')['카드이용건수'].sum()\n",
    "number_of_card_usage_by_town_df = number_of_card_usage_by_town.to_frame('카드이용건수').reset_index()\n",
    "plt.figure(figsize=(15,7))\n",
    "ax= sns.barplot(x='카드이용건수',y='제주 중분류',data=number_of_card_usage_by_town_df)\n",
    "ax.set_title('지역별 카드 이용 건수')"
   ]
  }
 ],
 "metadata": {
  "kernelspec": {
   "display_name": "Python 3",
   "language": "python",
   "name": "python3"
  },
  "language_info": {
   "codemirror_mode": {
    "name": "ipython",
    "version": 3
   },
   "file_extension": ".py",
   "mimetype": "text/x-python",
   "name": "python",
   "nbconvert_exporter": "python",
   "pygments_lexer": "ipython3",
   "version": "3.9.2"
  }
 },
 "nbformat": 4,
 "nbformat_minor": 5
}
